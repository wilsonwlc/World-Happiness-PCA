{
  "cells": [
    {
      "cell_type": "markdown",
      "metadata": {},
      "source": [
        "# Analysis"
      ]
    },
    {
      "cell_type": "code",
      "execution_count": 8,
      "metadata": {
        "colab": {
          "base_uri": "https://localhost:8080/"
        },
        "id": "9R5EuaY1NBff",
        "outputId": "22740870-b106-432c-d0a4-1526fd26fdb2"
      },
      "outputs": [],
      "source": [
        "# !pip install --upgrade numpy\n",
        "# !pip install --upgrade pandas\n",
        "# !pip install --upgrade seaborn\n",
        "# !pip install --upgrade scikit-learn"
      ]
    },
    {
      "cell_type": "code",
      "execution_count": 2,
      "metadata": {
        "colab": {
          "base_uri": "https://localhost:8080/"
        },
        "id": "m7jul---jPUD",
        "outputId": "e5591b4e-c2a5-4eaa-d380-12cc6c42a70e"
      },
      "outputs": [
        {
          "name": "stdout",
          "output_type": "stream",
          "text": [
            "Version of numpy: 1.26.4\n",
            "Version of pandas: 2.2.2\n",
            "Version of sklearn: 1.5.0\n",
            "Version of seaborn: 0.13.2\n",
            "Version of sklearn: 1.5.0\n",
            "Version of pycountry_convert: 0.7.2\n",
            "Version of plotly: 5.24.1\n"
          ]
        }
      ],
      "source": [
        "import numpy as np\n",
        "import pandas as pd\n",
        "import sklearn\n",
        "from sklearn.preprocessing import StandardScaler\n",
        "from sklearn.decomposition import PCA\n",
        "import seaborn as sns\n",
        "import matplotlib.pyplot as plt\n",
        "import pycountry_convert as pc\n",
        "import plotly.express as px\n",
        "import plotly\n",
        "print(f\"Version of numpy: {np.__version__}\")\n",
        "print(f\"Version of pandas: {pd.__version__}\")\n",
        "print(f\"Version of sklearn: {sklearn.__version__}\")\n",
        "print(f\"Version of seaborn: {sns.__version__}\")\n",
        "print(f\"Version of sklearn: {sklearn.__version__}\")\n",
        "print(f\"Version of pycountry_convert: {pc.__version__}\")\n",
        "print(f\"Version of plotly: {plotly.__version__}\")"
      ]
    },
    {
      "cell_type": "code",
      "execution_count": 4,
      "metadata": {
        "id": "FXhnpDY-rpUl"
      },
      "outputs": [],
      "source": [
        "# Import dataset\n",
        "df = pd.read_excel(\"./data/DataForTable2.1WHR2023.xls\")"
      ]
    },
    {
      "cell_type": "markdown",
      "metadata": {},
      "source": [
        "## Step 0: Clean the dataset"
      ]
    },
    {
      "cell_type": "code",
      "execution_count": 5,
      "metadata": {
        "id": "OzEnyMcbZAbX"
      },
      "outputs": [],
      "source": [
        "# Rename columns\n",
        "df = df.rename(columns={'Country name': \"country\",\n",
        "                        'year': \"year\",\n",
        "                        'Life Ladder': \"ladder\",\n",
        "                        'Log GDP per capita': \"log_gdp\",\n",
        "                        'Social support': \"social_support\",\n",
        "                        'Healthy life expectancy at birth': \"life_expectancy\",\n",
        "                        'Freedom to make life choices': \"freedom\",\n",
        "                        'Generosity': \"generosity\",\n",
        "                        'Perceptions of corruption': \"corruption\",\n",
        "                        'Positive affect': \"pos\",\n",
        "                        'Negative affect': \"neg\"})\n",
        "# Row selection\n",
        "df = df[df.year == 2022].reset_index(drop=True)\n",
        "# Column selection\n",
        "df = df.drop([\"year\", \"pos\", \"neg\"], axis=1)"
      ]
    },
    {
      "cell_type": "code",
      "execution_count": 6,
      "metadata": {
        "colab": {
          "base_uri": "https://localhost:8080/"
        },
        "id": "Qorwu2DuG3AK",
        "outputId": "11ae4347-0ce1-4476-ffb9-c1838d99d5c1"
      },
      "outputs": [
        {
          "name": "stdout",
          "output_type": "stream",
          "text": [
            "The dataset has 114 rows and 8 columns\n"
          ]
        }
      ],
      "source": [
        "# Check dimension\n",
        "m, n = df.shape\n",
        "print(f\"The dataset has {m} rows and {n} columns\")"
      ]
    },
    {
      "cell_type": "code",
      "execution_count": 7,
      "metadata": {
        "colab": {
          "base_uri": "https://localhost:8080/"
        },
        "id": "gzaTzTrBZAlB",
        "outputId": "b5b4316d-9bfe-47f9-90b4-1b67d26cd671"
      },
      "outputs": [
        {
          "name": "stdout",
          "output_type": "stream",
          "text": [
            "Is the feature country unique?: True\n"
          ]
        }
      ],
      "source": [
        "# Check the unique value for categorical variables i.e. country\n",
        "print(f'Is the feature country unique?: {df[\"country\"].nunique() == m}')"
      ]
    },
    {
      "cell_type": "code",
      "execution_count": 8,
      "metadata": {
        "colab": {
          "base_uri": "https://localhost:8080/",
          "height": 300
        },
        "id": "g7PXHqUUZAgZ",
        "outputId": "7bf3e12d-7b39-44f4-f9d2-fbe1de44da3b"
      },
      "outputs": [
        {
          "data": {
            "text/html": [
              "<div>\n",
              "<style scoped>\n",
              "    .dataframe tbody tr th:only-of-type {\n",
              "        vertical-align: middle;\n",
              "    }\n",
              "\n",
              "    .dataframe tbody tr th {\n",
              "        vertical-align: top;\n",
              "    }\n",
              "\n",
              "    .dataframe thead th {\n",
              "        text-align: right;\n",
              "    }\n",
              "</style>\n",
              "<table border=\"1\" class=\"dataframe\">\n",
              "  <thead>\n",
              "    <tr style=\"text-align: right;\">\n",
              "      <th></th>\n",
              "      <th>ladder</th>\n",
              "      <th>log_gdp</th>\n",
              "      <th>social_support</th>\n",
              "      <th>life_expectancy</th>\n",
              "      <th>freedom</th>\n",
              "      <th>generosity</th>\n",
              "      <th>corruption</th>\n",
              "    </tr>\n",
              "  </thead>\n",
              "  <tbody>\n",
              "    <tr>\n",
              "      <th>count</th>\n",
              "      <td>114.000000</td>\n",
              "      <td>108.000000</td>\n",
              "      <td>114.000000</td>\n",
              "      <td>111.000000</td>\n",
              "      <td>113.000000</td>\n",
              "      <td>108.000000</td>\n",
              "      <td>111.000000</td>\n",
              "    </tr>\n",
              "    <tr>\n",
              "      <th>mean</th>\n",
              "      <td>5.585126</td>\n",
              "      <td>9.523087</td>\n",
              "      <td>0.798006</td>\n",
              "      <td>65.286712</td>\n",
              "      <td>0.790447</td>\n",
              "      <td>0.028539</td>\n",
              "      <td>0.720852</td>\n",
              "    </tr>\n",
              "    <tr>\n",
              "      <th>std</th>\n",
              "      <td>1.265302</td>\n",
              "      <td>1.192070</td>\n",
              "      <td>0.148274</td>\n",
              "      <td>5.708647</td>\n",
              "      <td>0.117721</td>\n",
              "      <td>0.164155</td>\n",
              "      <td>0.176168</td>\n",
              "    </tr>\n",
              "    <tr>\n",
              "      <th>min</th>\n",
              "      <td>1.281271</td>\n",
              "      <td>7.006671</td>\n",
              "      <td>0.228217</td>\n",
              "      <td>51.750000</td>\n",
              "      <td>0.368377</td>\n",
              "      <td>-0.316425</td>\n",
              "      <td>0.190207</td>\n",
              "    </tr>\n",
              "    <tr>\n",
              "      <th>25%</th>\n",
              "      <td>4.715273</td>\n",
              "      <td>8.637480</td>\n",
              "      <td>0.725221</td>\n",
              "      <td>60.849998</td>\n",
              "      <td>0.723089</td>\n",
              "      <td>-0.084669</td>\n",
              "      <td>0.656535</td>\n",
              "    </tr>\n",
              "    <tr>\n",
              "      <th>50%</th>\n",
              "      <td>5.891891</td>\n",
              "      <td>9.627914</td>\n",
              "      <td>0.859008</td>\n",
              "      <td>66.199997</td>\n",
              "      <td>0.800192</td>\n",
              "      <td>0.012942</td>\n",
              "      <td>0.762208</td>\n",
              "    </tr>\n",
              "    <tr>\n",
              "      <th>75%</th>\n",
              "      <td>6.478360</td>\n",
              "      <td>10.591078</td>\n",
              "      <td>0.901272</td>\n",
              "      <td>70.212502</td>\n",
              "      <td>0.877969</td>\n",
              "      <td>0.139438</td>\n",
              "      <td>0.847604</td>\n",
              "    </tr>\n",
              "    <tr>\n",
              "      <th>max</th>\n",
              "      <td>7.728998</td>\n",
              "      <td>11.659949</td>\n",
              "      <td>0.984801</td>\n",
              "      <td>74.474998</td>\n",
              "      <td>0.975405</td>\n",
              "      <td>0.518823</td>\n",
              "      <td>0.941626</td>\n",
              "    </tr>\n",
              "  </tbody>\n",
              "</table>\n",
              "</div>"
            ],
            "text/plain": [
              "           ladder     log_gdp  social_support  life_expectancy     freedom  \\\n",
              "count  114.000000  108.000000      114.000000       111.000000  113.000000   \n",
              "mean     5.585126    9.523087        0.798006        65.286712    0.790447   \n",
              "std      1.265302    1.192070        0.148274         5.708647    0.117721   \n",
              "min      1.281271    7.006671        0.228217        51.750000    0.368377   \n",
              "25%      4.715273    8.637480        0.725221        60.849998    0.723089   \n",
              "50%      5.891891    9.627914        0.859008        66.199997    0.800192   \n",
              "75%      6.478360   10.591078        0.901272        70.212502    0.877969   \n",
              "max      7.728998   11.659949        0.984801        74.474998    0.975405   \n",
              "\n",
              "       generosity  corruption  \n",
              "count  108.000000  111.000000  \n",
              "mean     0.028539    0.720852  \n",
              "std      0.164155    0.176168  \n",
              "min     -0.316425    0.190207  \n",
              "25%     -0.084669    0.656535  \n",
              "50%      0.012942    0.762208  \n",
              "75%      0.139438    0.847604  \n",
              "max      0.518823    0.941626  "
            ]
          },
          "execution_count": 8,
          "metadata": {},
          "output_type": "execute_result"
        }
      ],
      "source": [
        "# Checking missing value for continuous variables\n",
        "df.describe()"
      ]
    },
    {
      "cell_type": "markdown",
      "metadata": {},
      "source": [
        "* Generosity can be negative because it is the residual of regressing national average of response to the question \"Have you donated money to a charity in the past month?\" on GDP per capita"
      ]
    },
    {
      "cell_type": "code",
      "execution_count": 9,
      "metadata": {
        "id": "DGpJ58_MZAnV"
      },
      "outputs": [
        {
          "name": "stdout",
          "output_type": "stream",
          "text": [
            "The dataset has 104 rows and 8 columns\n"
          ]
        }
      ],
      "source": [
        "# Remove the rows if any missing\n",
        "df = df.dropna(axis=0, how=\"any\", inplace=False, ignore_index=True)\n",
        "m, n = df.shape\n",
        "print(f\"The dataset has {m} rows and {n} columns\")"
      ]
    },
    {
      "cell_type": "code",
      "execution_count": 10,
      "metadata": {},
      "outputs": [
        {
          "data": {
            "text/html": [
              "<div>\n",
              "<style scoped>\n",
              "    .dataframe tbody tr th:only-of-type {\n",
              "        vertical-align: middle;\n",
              "    }\n",
              "\n",
              "    .dataframe tbody tr th {\n",
              "        vertical-align: top;\n",
              "    }\n",
              "\n",
              "    .dataframe thead th {\n",
              "        text-align: right;\n",
              "    }\n",
              "</style>\n",
              "<table border=\"1\" class=\"dataframe\">\n",
              "  <thead>\n",
              "    <tr style=\"text-align: right;\">\n",
              "      <th></th>\n",
              "      <th>country</th>\n",
              "      <th>ladder</th>\n",
              "      <th>log_gdp</th>\n",
              "      <th>social_support</th>\n",
              "      <th>life_expectancy</th>\n",
              "      <th>freedom</th>\n",
              "      <th>generosity</th>\n",
              "      <th>corruption</th>\n",
              "    </tr>\n",
              "  </thead>\n",
              "  <tbody>\n",
              "    <tr>\n",
              "      <th>0</th>\n",
              "      <td>Albania</td>\n",
              "      <td>5.212213</td>\n",
              "      <td>9.626483</td>\n",
              "      <td>0.724090</td>\n",
              "      <td>69.175003</td>\n",
              "      <td>0.802250</td>\n",
              "      <td>-0.065987</td>\n",
              "      <td>0.845502</td>\n",
              "    </tr>\n",
              "    <tr>\n",
              "      <th>1</th>\n",
              "      <td>Argentina</td>\n",
              "      <td>6.260993</td>\n",
              "      <td>10.011405</td>\n",
              "      <td>0.893330</td>\n",
              "      <td>67.250000</td>\n",
              "      <td>0.825189</td>\n",
              "      <td>-0.127506</td>\n",
              "      <td>0.810037</td>\n",
              "    </tr>\n",
              "    <tr>\n",
              "      <th>2</th>\n",
              "      <td>Armenia</td>\n",
              "      <td>5.381943</td>\n",
              "      <td>9.667766</td>\n",
              "      <td>0.811169</td>\n",
              "      <td>67.925003</td>\n",
              "      <td>0.789599</td>\n",
              "      <td>-0.154325</td>\n",
              "      <td>0.704730</td>\n",
              "    </tr>\n",
              "    <tr>\n",
              "      <th>3</th>\n",
              "      <td>Australia</td>\n",
              "      <td>7.034696</td>\n",
              "      <td>10.853529</td>\n",
              "      <td>0.941673</td>\n",
              "      <td>71.125000</td>\n",
              "      <td>0.853777</td>\n",
              "      <td>0.153465</td>\n",
              "      <td>0.545217</td>\n",
              "    </tr>\n",
              "    <tr>\n",
              "      <th>4</th>\n",
              "      <td>Austria</td>\n",
              "      <td>6.998997</td>\n",
              "      <td>10.938917</td>\n",
              "      <td>0.876287</td>\n",
              "      <td>71.275002</td>\n",
              "      <td>0.855503</td>\n",
              "      <td>0.139042</td>\n",
              "      <td>0.524212</td>\n",
              "    </tr>\n",
              "  </tbody>\n",
              "</table>\n",
              "</div>"
            ],
            "text/plain": [
              "     country    ladder    log_gdp  social_support  life_expectancy   freedom  \\\n",
              "0    Albania  5.212213   9.626483        0.724090        69.175003  0.802250   \n",
              "1  Argentina  6.260993  10.011405        0.893330        67.250000  0.825189   \n",
              "2    Armenia  5.381943   9.667766        0.811169        67.925003  0.789599   \n",
              "3  Australia  7.034696  10.853529        0.941673        71.125000  0.853777   \n",
              "4    Austria  6.998997  10.938917        0.876287        71.275002  0.855503   \n",
              "\n",
              "   generosity  corruption  \n",
              "0   -0.065987    0.845502  \n",
              "1   -0.127506    0.810037  \n",
              "2   -0.154325    0.704730  \n",
              "3    0.153465    0.545217  \n",
              "4    0.139042    0.524212  "
            ]
          },
          "execution_count": 10,
          "metadata": {},
          "output_type": "execute_result"
        }
      ],
      "source": [
        "df.head()"
      ]
    },
    {
      "cell_type": "code",
      "execution_count": 11,
      "metadata": {
        "id": "gRklY_I5Oqhp"
      },
      "outputs": [
        {
          "data": {
            "text/plain": [
              "<seaborn.axisgrid.PairGrid at 0x1656cc670>"
            ]
          },
          "execution_count": 11,
          "metadata": {},
          "output_type": "execute_result"
        },
        {
          "data": {
            "image/png": "[encoded data removed]",
            "text/plain": [
              "<Figure size 1500x1500 with 42 Axes>"
            ]
          },
          "metadata": {},
          "output_type": "display_data"
        }
      ],
      "source": [
        "# Check collinearity \n",
        "g = sns.PairGrid(df.drop([\"country\", \"ladder\"], axis=1))\n",
        "g.map_diag(sns.histplot)\n",
        "g.map_offdiag(sns.scatterplot)"
      ]
    },
    {
      "cell_type": "markdown",
      "metadata": {},
      "source": [
        "* It is obvious that GDP per capita is positively correlated to Healthy Life Expectancy and Social Support\n",
        "* However, it seeems that Generosity and Corruption does not have an obvious linear relationship with other measurements."
      ]
    },
    {
      "cell_type": "code",
      "execution_count": 12,
      "metadata": {
        "colab": {
          "base_uri": "https://localhost:8080/",
          "height": 206
        },
        "id": "dGOMyJy3OqkY",
        "outputId": "d9fd4bde-7f02-4c63-9b65-d38223f36e56"
      },
      "outputs": [
        {
          "data": {
            "text/html": [
              "<div>\n",
              "<style scoped>\n",
              "    .dataframe tbody tr th:only-of-type {\n",
              "        vertical-align: middle;\n",
              "    }\n",
              "\n",
              "    .dataframe tbody tr th {\n",
              "        vertical-align: top;\n",
              "    }\n",
              "\n",
              "    .dataframe thead th {\n",
              "        text-align: right;\n",
              "    }\n",
              "</style>\n",
              "<table border=\"1\" class=\"dataframe\">\n",
              "  <thead>\n",
              "    <tr style=\"text-align: right;\">\n",
              "      <th></th>\n",
              "      <th>country</th>\n",
              "      <th>ladder</th>\n",
              "      <th>log_gdp</th>\n",
              "      <th>social_support</th>\n",
              "      <th>life_expectancy</th>\n",
              "      <th>freedom</th>\n",
              "      <th>generosity</th>\n",
              "      <th>corruption</th>\n",
              "    </tr>\n",
              "  </thead>\n",
              "  <tbody>\n",
              "    <tr>\n",
              "      <th>0</th>\n",
              "      <td>Albania</td>\n",
              "      <td>5.212213</td>\n",
              "      <td>9.626483</td>\n",
              "      <td>0.724090</td>\n",
              "      <td>69.175003</td>\n",
              "      <td>0.802250</td>\n",
              "      <td>-0.065987</td>\n",
              "      <td>0.845502</td>\n",
              "    </tr>\n",
              "    <tr>\n",
              "      <th>1</th>\n",
              "      <td>Argentina</td>\n",
              "      <td>6.260993</td>\n",
              "      <td>10.011405</td>\n",
              "      <td>0.893330</td>\n",
              "      <td>67.250000</td>\n",
              "      <td>0.825189</td>\n",
              "      <td>-0.127506</td>\n",
              "      <td>0.810037</td>\n",
              "    </tr>\n",
              "    <tr>\n",
              "      <th>2</th>\n",
              "      <td>Armenia</td>\n",
              "      <td>5.381943</td>\n",
              "      <td>9.667766</td>\n",
              "      <td>0.811169</td>\n",
              "      <td>67.925003</td>\n",
              "      <td>0.789599</td>\n",
              "      <td>-0.154325</td>\n",
              "      <td>0.704730</td>\n",
              "    </tr>\n",
              "    <tr>\n",
              "      <th>3</th>\n",
              "      <td>Australia</td>\n",
              "      <td>7.034696</td>\n",
              "      <td>10.853529</td>\n",
              "      <td>0.941673</td>\n",
              "      <td>71.125000</td>\n",
              "      <td>0.853777</td>\n",
              "      <td>0.153465</td>\n",
              "      <td>0.545217</td>\n",
              "    </tr>\n",
              "    <tr>\n",
              "      <th>4</th>\n",
              "      <td>Austria</td>\n",
              "      <td>6.998997</td>\n",
              "      <td>10.938917</td>\n",
              "      <td>0.876287</td>\n",
              "      <td>71.275002</td>\n",
              "      <td>0.855503</td>\n",
              "      <td>0.139042</td>\n",
              "      <td>0.524212</td>\n",
              "    </tr>\n",
              "  </tbody>\n",
              "</table>\n",
              "</div>"
            ],
            "text/plain": [
              "     country    ladder    log_gdp  social_support  life_expectancy   freedom  \\\n",
              "0    Albania  5.212213   9.626483        0.724090        69.175003  0.802250   \n",
              "1  Argentina  6.260993  10.011405        0.893330        67.250000  0.825189   \n",
              "2    Armenia  5.381943   9.667766        0.811169        67.925003  0.789599   \n",
              "3  Australia  7.034696  10.853529        0.941673        71.125000  0.853777   \n",
              "4    Austria  6.998997  10.938917        0.876287        71.275002  0.855503   \n",
              "\n",
              "   generosity  corruption  \n",
              "0   -0.065987    0.845502  \n",
              "1   -0.127506    0.810037  \n",
              "2   -0.154325    0.704730  \n",
              "3    0.153465    0.545217  \n",
              "4    0.139042    0.524212  "
            ]
          },
          "execution_count": 12,
          "metadata": {},
          "output_type": "execute_result"
        }
      ],
      "source": [
        "# Summary of dataset after cleansing\n",
        "df.head()"
      ]
    },
    {
      "cell_type": "markdown",
      "metadata": {},
      "source": [
        "## Step 1: Standardization (using sample standard deviation)"
      ]
    },
    {
      "cell_type": "code",
      "execution_count": 13,
      "metadata": {
        "colab": {
          "base_uri": "https://localhost:8080/"
        },
        "id": "aF6LVRLMOqnF",
        "outputId": "0c7384f4-4cce-46eb-8370-9f767fe4e2d9"
      },
      "outputs": [
        {
          "name": "stdout",
          "output_type": "stream",
          "text": [
            "The data has shape of (104, 6)\n",
            "Mean: [9.49703255e+00 7.98041067e-01 6.52752404e+01 7.94433150e-01\n",
            " 2.82236492e-02 7.16338353e-01]\n",
            "Standard deviation: [1.19690009 0.14281086 5.72014684 0.11333384 0.16401471 0.18017602]\n",
            "The scaled data has shape of (104, 6)\n"
          ]
        }
      ],
      "source": [
        "data = df.drop([\"country\", \"ladder\"], axis=1).to_numpy()\n",
        "print(f\"The data has shape of {data.shape}\")\n",
        "mean = np.mean(a=data, axis=0)\n",
        "print(f\"Mean: {mean}\")\n",
        "std = np.std(a=data, axis=0, ddof=1)\n",
        "print(f\"Standard deviation: {std}\")\n",
        "scaled_data = (data - mean) / std\n",
        "print(f\"The scaled data has shape of {scaled_data.shape}\")"
      ]
    },
    {
      "cell_type": "markdown",
      "metadata": {},
      "source": [
        "### Remark\n",
        "* If `sklearn.preprocessing.StandardScaler` from scikit learn is used, the degree of freedom will be 0"
      ]
    },
    {
      "cell_type": "markdown",
      "metadata": {},
      "source": [
        "## Method 1: numpy"
      ]
    },
    {
      "cell_type": "markdown",
      "metadata": {},
      "source": [
        "### Step 2: Sample Covariance / Correlation Matrix "
      ]
    },
    {
      "cell_type": "code",
      "execution_count": 14,
      "metadata": {},
      "outputs": [
        {
          "name": "stdout",
          "output_type": "stream",
          "text": [
            "Covariance or Correlation matrix: \n",
            " [[ 1.          0.78742257  0.87971382  0.38057512 -0.08494672 -0.4487724 ]\n",
            " [ 0.78742257  1.          0.74068994  0.48632145  0.0546591  -0.27336239]\n",
            " [ 0.87971382  0.74068994  1.          0.39596967 -0.07023385 -0.39656696]\n",
            " [ 0.38057512  0.48632145  0.39596967  1.          0.2093565  -0.40078613]\n",
            " [-0.08494672  0.0546591  -0.07023385  0.2093565   1.         -0.26468722]\n",
            " [-0.4487724  -0.27336239 -0.39656696 -0.40078613 -0.26468722  1.        ]]\n"
          ]
        }
      ],
      "source": [
        "cov = np.cov(scaled_data, rowvar=False, ddof=1)\n",
        "print(f\"Covariance or Correlation matrix: \\n {cov}\")"
      ]
    },
    {
      "cell_type": "markdown",
      "metadata": {},
      "source": [
        "### Step 3: Eigendecomposition"
      ]
    },
    {
      "cell_type": "code",
      "execution_count": 15,
      "metadata": {},
      "outputs": [
        {
          "name": "stdout",
          "output_type": "stream",
          "text": [
            "Eigenvalues: [3.15479086 1.26426015 0.10282939 0.21497689 0.60110484 0.66203788]\n",
            "Eigenvector shown by column: \n",
            " [[-0.51472891 -0.22842846  0.78917766  0.08502942 -0.19838286 -0.11613546]\n",
            " [-0.48638021 -0.13073287 -0.27487516 -0.69717396 -0.20190405  0.37943389]\n",
            " [-0.50355543 -0.22740904 -0.51730811  0.62281349 -0.19011509 -0.05539842]\n",
            " [-0.36056268  0.32729304  0.08992163  0.1667308   0.74335541  0.41762602]\n",
            " [-0.05181583  0.77695269  0.07243624  0.15605807 -0.55016707  0.24773919]\n",
            " [ 0.33500752 -0.41016859  0.14388077  0.25820252 -0.16874295  0.77697316]]\n"
          ]
        }
      ],
      "source": [
        "values, vectors = np.linalg.eig(cov)\n",
        "print(f\"Eigenvalues: {values}\")\n",
        "print(f\"Eigenvector shown by column: \\n {vectors}\")"
      ]
    },
    {
      "cell_type": "markdown",
      "metadata": {},
      "source": [
        "* In the matrix of **Eigenvectors**, each column represent a principal component"
      ]
    },
    {
      "cell_type": "markdown",
      "metadata": {},
      "source": [
        "### Step 4a: Sort Components"
      ]
    },
    {
      "cell_type": "code",
      "execution_count": 16,
      "metadata": {},
      "outputs": [
        {
          "data": {
            "text/plain": [
              "array([[-0.51472891, -0.22842846, -0.11613546, -0.19838286,  0.08502942,\n",
              "         0.78917766],\n",
              "       [-0.48638021, -0.13073287,  0.37943389, -0.20190405, -0.69717396,\n",
              "        -0.27487516],\n",
              "       [-0.50355543, -0.22740904, -0.05539842, -0.19011509,  0.62281349,\n",
              "        -0.51730811],\n",
              "       [-0.36056268,  0.32729304,  0.41762602,  0.74335541,  0.1667308 ,\n",
              "         0.08992163],\n",
              "       [-0.05181583,  0.77695269,  0.24773919, -0.55016707,  0.15605807,\n",
              "         0.07243624],\n",
              "       [ 0.33500752, -0.41016859,  0.77697316, -0.16874295,  0.25820252,\n",
              "         0.14388077]])"
            ]
          },
          "execution_count": 16,
          "metadata": {},
          "output_type": "execute_result"
        }
      ],
      "source": [
        "ordered_column_index = np.argsort(values)[::-1]\n",
        "ordered_values = values[ordered_column_index]\n",
        "ordered_vectors = vectors[:,ordered_column_index]\n",
        "ordered_vectors"
      ]
    },
    {
      "cell_type": "markdown",
      "metadata": {},
      "source": [
        "### Step 4b: Select components"
      ]
    },
    {
      "cell_type": "code",
      "execution_count": 17,
      "metadata": {},
      "outputs": [
        {
          "name": "stdout",
          "output_type": "stream",
          "text": [
            "Variance explained by components: [0.52579848 0.21071002 0.11033965 0.10018414 0.03582948 0.01713823]\n",
            "Cumulative variance explained: [0.52579848 0.7365085  0.84684815 0.94703229 0.98286177 1.        ]\n"
          ]
        }
      ],
      "source": [
        "explained_variance_ratio = ordered_values / ordered_values.sum()\n",
        "print(f\"Variance explained by components: {explained_variance_ratio}\")\n",
        "cumulative_result = np.cumsum(explained_variance_ratio)\n",
        "print(f\"Cumulative variance explained: {cumulative_result}\")"
      ]
    },
    {
      "cell_type": "code",
      "execution_count": 18,
      "metadata": {},
      "outputs": [
        {
          "data": {
            "image/png": "[encoded data removed]",
            "text/plain": [
              "<Figure size 640x480 with 1 Axes>"
            ]
          },
          "metadata": {},
          "output_type": "display_data"
        }
      ],
      "source": [
        "per_var = np.round(explained_variance_ratio * 100, decimals=1)\n",
        "labels = ['PC' + str(x) for x in range(1, len(per_var)+1)]\n",
        "plt.bar(x=range(1,len(per_var)+1), height=per_var, tick_label=labels)\n",
        "plt.plot(range(1,len(per_var)+1), per_var, marker=\"o\", color=\"red\")\n",
        "plt.title('Scree Plot')\n",
        "plt.ylabel('Percentage of Explained Variance')\n",
        "plt.xlabel('Principal Component')\n",
        "plt.show()"
      ]
    },
    {
      "cell_type": "markdown",
      "metadata": {},
      "source": [
        "* If setting the threshold to be 80%, select first 3 PCs\n",
        "* For easier visualiation, only 2 PCs are selected"
      ]
    },
    {
      "cell_type": "code",
      "execution_count": 19,
      "metadata": {},
      "outputs": [
        {
          "name": "stdout",
          "output_type": "stream",
          "text": [
            "                      PC1       PC2\n",
            "log_gdp         -0.514729 -0.228428\n",
            "social_support  -0.486380 -0.130733\n",
            "life_expectancy -0.503555 -0.227409\n",
            "freedom         -0.360563  0.327293\n",
            "generosity      -0.051816  0.776953\n",
            "corruption       0.335008 -0.410169\n"
          ]
        }
      ],
      "source": [
        "n_pc = 2\n",
        "selected_values = ordered_values[0:n_pc]\n",
        "selected_vectors = ordered_vectors[:,0:n_pc]\n",
        "index = df.drop([\"country\", \"ladder\"], axis=1).columns\n",
        "df_pc = pd.DataFrame(selected_vectors, columns=[\"PC1\", \"PC2\"], index=index)\n",
        "print(df_pc)"
      ]
    },
    {
      "cell_type": "markdown",
      "metadata": {},
      "source": [
        "### Step 5: Projection"
      ]
    },
    {
      "cell_type": "code",
      "execution_count": 20,
      "metadata": {},
      "outputs": [],
      "source": [
        "projected_data = np.matmul(scaled_data, selected_vectors)\n",
        "df_projected_data = pd.DataFrame(projected_data, columns=[\"PC1\", \"PC2\"], index=df.country).reset_index(drop=False)"
      ]
    },
    {
      "cell_type": "code",
      "execution_count": 21,
      "metadata": {},
      "outputs": [],
      "source": [
        "# Get the happiness score i.e. ladder \n",
        "df_projected_data = df_projected_data.merge(right=df[[\"country\", \"ladder\"]], how=\"left\", on=[\"country\"])"
      ]
    },
    {
      "cell_type": "code",
      "execution_count": 22,
      "metadata": {},
      "outputs": [
        {
          "data": {
            "application/vnd.plotly.v1+json": {
              "config": {
                "plotlyServerURL": "https://plot.ly"
              },
              "data": [
                {
                  "customdata": [
                    [
                      "Albania",
                      5.212213039398193
                    ],
                    [
                      "Argentina",
                      6.260993480682373
                    ],
                    [
                      "Armenia",
                      5.3819427490234375
                    ],
                    [
                      "Australia",
                      7.034696102142334
                    ],
                    [
                      "Austria",
                      6.998997211456299
                    ],
                    [
                      "Bangladesh",
                      3.407532215118408
                    ],
                    [
                      "Belgium",
                      6.856874465942383
                    ],
                    [
                      "Benin",
                      4.217325687408447
                    ],
                    [
                      "Bolivia",
                      5.928882122039795
                    ],
                    [
                      "Botswana",
                      3.435275077819824
                    ],
                    [
                      "Brazil",
                      6.257079601287842
                    ],
                    [
                      "Bulgaria",
                      5.3783488273620605
                    ],
                    [
                      "Cambodia",
                      4.250280857086182
                    ],
                    [
                      "Cameroon",
                      4.712408065795898
                    ],
                    [
                      "Canada",
                      6.917935371398926
                    ],
                    [
                      "Chad",
                      4.396646022796631
                    ],
                    [
                      "Chile",
                      6.415198802947998
                    ],
                    [
                      "Colombia",
                      5.891712188720703
                    ],
                    [
                      "Comoros",
                      3.545203685760498
                    ],
                    [
                      "Congo (Brazzaville)",
                      5.8049187660217285
                    ],
                    [
                      "Congo (Kinshasa)",
                      3.2071967124938965
                    ],
                    [
                      "Costa Rica",
                      7.076658248901367
                    ],
                    [
                      "Croatia",
                      5.578691482543945
                    ],
                    [
                      "Czechia",
                      6.695077419281006
                    ],
                    [
                      "Denmark",
                      7.544964790344238
                    ],
                    [
                      "Dominican Republic",
                      5.518415927886963
                    ],
                    [
                      "Ecuador",
                      5.887132167816162
                    ],
                    [
                      "El Salvador",
                      6.492156028747559
                    ],
                    [
                      "Estonia",
                      6.357114315032959
                    ],
                    [
                      "Ethiopia",
                      3.6280715465545654
                    ],
                    [
                      "Finland",
                      7.728998184204102
                    ],
                    [
                      "France",
                      6.61380672454834
                    ],
                    [
                      "Gabon",
                      5.139500617980957
                    ],
                    [
                      "Gambia",
                      4.2794413566589355
                    ],
                    [
                      "Georgia",
                      5.292755126953125
                    ],
                    [
                      "Germany",
                      6.608206748962402
                    ],
                    [
                      "Ghana",
                      4.190854549407959
                    ],
                    [
                      "Greece",
                      5.900459289550781
                    ],
                    [
                      "Guatemala",
                      6.150331497192383
                    ],
                    [
                      "Guinea",
                      5.317492961883545
                    ],
                    [
                      "Honduras",
                      5.9318037033081055
                    ],
                    [
                      "Hungary",
                      5.861183166503906
                    ],
                    [
                      "Iceland",
                      7.448794364929199
                    ],
                    [
                      "India",
                      3.929816246032715
                    ],
                    [
                      "Indonesia",
                      5.584685802459717
                    ],
                    [
                      "Iran",
                      4.976995468139648
                    ],
                    [
                      "Ireland",
                      6.869863986968994
                    ],
                    [
                      "Israel",
                      7.662397384643555
                    ],
                    [
                      "Italy",
                      6.258476734161377
                    ],
                    [
                      "Ivory Coast",
                      4.8486738204956055
                    ],
                    [
                      "Jamaica",
                      5.870189189910889
                    ],
                    [
                      "Japan",
                      6.178009986877441
                    ],
                    [
                      "Jordan",
                      4.355606555938721
                    ],
                    [
                      "Kazakhstan",
                      6.006279468536377
                    ],
                    [
                      "Kenya",
                      4.447946548461914
                    ],
                    [
                      "Kyrgyzstan",
                      5.667840957641602
                    ],
                    [
                      "Latvia",
                      6.054838180541992
                    ],
                    [
                      "Lebanon",
                      2.3524277210235596
                    ],
                    [
                      "Liberia",
                      4.04226016998291
                    ],
                    [
                      "Lithuania",
                      7.037577152252197
                    ],
                    [
                      "Luxembourg",
                      7.227934837341309
                    ],
                    [
                      "Madagascar",
                      4.019134044647217
                    ],
                    [
                      "Malawi",
                      3.3555634021759033
                    ],
                    [
                      "Mali",
                      4.210547924041748
                    ],
                    [
                      "Mauritania",
                      4.7238688468933105
                    ],
                    [
                      "Mauritius",
                      5.7405009269714355
                    ],
                    [
                      "Mexico",
                      7.0383687019348145
                    ],
                    [
                      "Moldova",
                      5.686611652374268
                    ],
                    [
                      "Mongolia",
                      5.787830352783203
                    ],
                    [
                      "Morocco",
                      4.59609317779541
                    ],
                    [
                      "Mozambique",
                      4.739677429199219
                    ],
                    [
                      "Namibia",
                      4.948962688446045
                    ],
                    [
                      "Nepal",
                      5.474175930023193
                    ],
                    [
                      "Netherlands",
                      7.389636039733887
                    ],
                    [
                      "New Zealand",
                      6.974986553192139
                    ],
                    [
                      "Nicaragua",
                      6.3922576904296875
                    ],
                    [
                      "Niger",
                      4.501331329345703
                    ],
                    [
                      "North Macedonia",
                      5.166881561279297
                    ],
                    [
                      "Norway",
                      7.294604301452637
                    ],
                    [
                      "Panama",
                      5.979382038116455
                    ],
                    [
                      "Paraguay",
                      6.1376118659973145
                    ],
                    [
                      "Peru",
                      5.892068862915039
                    ],
                    [
                      "Poland",
                      6.66626501083374
                    ],
                    [
                      "Portugal",
                      5.952542781829834
                    ],
                    [
                      "Romania",
                      6.436973571777344
                    ],
                    [
                      "Russia",
                      6.04407262802124
                    ],
                    [
                      "Senegal",
                      4.906819820404053
                    ],
                    [
                      "Sierra Leone",
                      2.560429573059082
                    ],
                    [
                      "Slovenia",
                      6.723397731781006
                    ],
                    [
                      "South Korea",
                      5.950013637542725
                    ],
                    [
                      "Spain",
                      6.336902141571045
                    ],
                    [
                      "Sweden",
                      7.431214332580566
                    ],
                    [
                      "Switzerland",
                      6.883844375610352
                    ],
                    [
                      "Tanzania",
                      3.615845203399658
                    ],
                    [
                      "Thailand",
                      6.00711727142334
                    ],
                    [
                      "Togo",
                      4.238982200622559
                    ],
                    [
                      "Tunisia",
                      4.260868072509766
                    ],
                    [
                      "Ukraine",
                      4.637436389923096
                    ],
                    [
                      "United Kingdom",
                      6.721779823303223
                    ],
                    [
                      "United States",
                      6.6927900314331055
                    ],
                    [
                      "Uruguay",
                      6.6708526611328125
                    ],
                    [
                      "Uzbekistan",
                      6.016238689422607
                    ],
                    [
                      "Vietnam",
                      6.26650857925415
                    ],
                    [
                      "Zimbabwe",
                      3.29621958732605
                    ]
                  ],
                  "hovertemplate": "Principal Component 1=%{x}<br>Principal Component 2=%{y}<br>Country=%{customdata[0]}<br>Happiness Category=%{marker.color}<extra></extra>",
                  "legendgroup": "",
                  "marker": {
                    "color": [
                      5.212213039398193,
                      6.260993480682373,
                      5.3819427490234375,
                      7.034696102142334,
                      6.998997211456299,
                      3.407532215118408,
                      6.856874465942383,
                      4.217325687408447,
                      5.928882122039795,
                      3.435275077819824,
                      6.257079601287842,
                      5.3783488273620605,
                      4.250280857086182,
                      4.712408065795898,
                      6.917935371398926,
                      4.396646022796631,
                      6.415198802947998,
                      5.891712188720703,
                      3.545203685760498,
                      5.8049187660217285,
                      3.2071967124938965,
                      7.076658248901367,
                      5.578691482543945,
                      6.695077419281006,
                      7.544964790344238,
                      5.518415927886963,
                      5.887132167816162,
                      6.492156028747559,
                      6.357114315032959,
                      3.6280715465545654,
                      7.728998184204102,
                      6.61380672454834,
                      5.139500617980957,
                      4.2794413566589355,
                      5.292755126953125,
                      6.608206748962402,
                      4.190854549407959,
                      5.900459289550781,
                      6.150331497192383,
                      5.317492961883545,
                      5.9318037033081055,
                      5.861183166503906,
                      7.448794364929199,
                      3.929816246032715,
                      5.584685802459717,
                      4.976995468139648,
                      6.869863986968994,
                      7.662397384643555,
                      6.258476734161377,
                      4.8486738204956055,
                      5.870189189910889,
                      6.178009986877441,
                      4.355606555938721,
                      6.006279468536377,
                      4.447946548461914,
                      5.667840957641602,
                      6.054838180541992,
                      2.3524277210235596,
                      4.04226016998291,
                      7.037577152252197,
                      7.227934837341309,
                      4.019134044647217,
                      3.3555634021759033,
                      4.210547924041748,
                      4.7238688468933105,
                      5.7405009269714355,
                      7.0383687019348145,
                      5.686611652374268,
                      5.787830352783203,
                      4.59609317779541,
                      4.739677429199219,
                      4.948962688446045,
                      5.474175930023193,
                      7.389636039733887,
                      6.974986553192139,
                      6.3922576904296875,
                      4.501331329345703,
                      5.166881561279297,
                      7.294604301452637,
                      5.979382038116455,
                      6.1376118659973145,
                      5.892068862915039,
                      6.66626501083374,
                      5.952542781829834,
                      6.436973571777344,
                      6.04407262802124,
                      4.906819820404053,
                      2.560429573059082,
                      6.723397731781006,
                      5.950013637542725,
                      6.336902141571045,
                      7.431214332580566,
                      6.883844375610352,
                      3.615845203399658,
                      6.00711727142334,
                      4.238982200622559,
                      4.260868072509766,
                      4.637436389923096,
                      6.721779823303223,
                      6.6927900314331055,
                      6.6708526611328125,
                      6.016238689422607,
                      6.26650857925415,
                      3.29621958732605
                    ],
                    "coloraxis": "coloraxis",
                    "symbol": "circle"
                  },
                  "mode": "markers",
                  "name": "",
                  "orientation": "v",
                  "showlegend": false,
                  "type": "scatter",
                  "x": [
                    0.09794095677083908,
                    -0.5940094868200806,
                    -0.299930008468933,
                    -2.134042861303759,
                    -2.00126854005275,
                    1.3381360204253447,
                    -2.2855713772405912,
                    2.8586470064920912,
                    0.2951675379855982,
                    1.4989900684864381,
                    -0.37351152276676675,
                    -0.2765032246382779,
                    0.537981581687768,
                    2.521356658043627,
                    -2.262332015507552,
                    2.768473719240699,
                    -0.8757942325829493,
                    -0.3958007510371785,
                    3.2794697196177474,
                    2.2290230550007584,
                    3.051026020377308,
                    -1.2643811936361944,
                    -0.12297627835880387,
                    -1.5059291008508362,
                    -3.2135190675264993,
                    -0.4428936140040718,
                    0.07291370420453654,
                    -0.32956997716402225,
                    -2.316311199687408,
                    1.7345088002468567,
                    -3.2147579149478545,
                    -1.7268360923709012,
                    1.1736219544522908,
                    2.9875117395943684,
                    -0.05047014495458962,
                    -2.4464357718376806,
                    1.8545202573350952,
                    -0.023790784143469666,
                    0.3979273013077332,
                    2.6308329447111545,
                    0.7128550475954573,
                    -0.789964232332564,
                    -2.4080714851178464,
                    1.051918268135498,
                    -0.13792679779285907,
                    0.5507044948099117,
                    -2.8442181597455223,
                    -1.7529724426071325,
                    -0.8996843232954852,
                    2.360203719330623,
                    -0.08446929802773728,
                    -1.6776966471936339,
                    0.19766682006922173,
                    -1.0775393004198448,
                    1.8537587627145293,
                    -0.46058312791770095,
                    -0.7732628405368157,
                    2.298916431028719,
                    2.7632675284741706,
                    -0.8859565252311773,
                    -2.8382755379263993,
                    3.0068803406061066,
                    2.7608285173221394,
                    2.1588250594798892,
                    1.7682702891050734,
                    -0.2878967027098878,
                    -0.4605335565346062,
                    0.12171267386562265,
                    0.3666923198515616,
                    1.3741616874426443,
                    2.165991135765963,
                    1.4809412858608189,
                    0.8350096652740018,
                    -2.4169677004110475,
                    -2.475086494746995,
                    -0.48084785272060027,
                    2.5706014772922012,
                    0.22149160602485468,
                    -2.9410010482030446,
                    -0.9740244901521524,
                    -0.5738762101959574,
                    -0.008813821012620772,
                    -1.1191854262034506,
                    -1.1472287605241227,
                    -0.3188635344015299,
                    -0.5398621806246935,
                    2.0108076454736765,
                    3.463819634273961,
                    -1.8769226567387338,
                    -1.0395993649435504,
                    -1.5958674145918659,
                    -3.202124719260071,
                    -2.79498381488024,
                    1.3748354835686847,
                    -0.719897754769458,
                    2.50718269307535,
                    1.5484892565712607,
                    0.03964708130289253,
                    -2.042137074673411,
                    -0.9604148893381876,
                    -1.2105782229907989,
                    -0.8851045713623811,
                    -0.767139120086304,
                    2.732685289826549
                  ],
                  "xaxis": "x",
                  "y": [
                    -0.82979840990143,
                    -1.1260987229352069,
                    -1.002234026399501,
                    0.5312769093322564,
                    0.5533528048391323,
                    0.5645244134237788,
                    0.5241799268653906,
                    0.8130327484762554,
                    -0.4626586386756007,
                    -1.132390920029556,
                    -0.48701158663454924,
                    -1.8042683961602846,
                    1.05437670886029,
                    0.08198497137608357,
                    1.0520988548908046,
                    1.3606971938567747,
                    -0.7829304556933097,
                    -1.4917347272974817,
                    -0.3414685312543161,
                    0.35083921503119514,
                    0.6263717700937206,
                    -0.47866422132781217,
                    -2.521783062608134,
                    -0.13187903932132497,
                    1.8004873930413594,
                    -0.28886902008317605,
                    -1.0996781967147413,
                    -0.037258641955745575,
                    1.0560652570218478,
                    1.604972334644362,
                    1.3726774730713454,
                    -0.4048128482875444,
                    -1.1046945073315637,
                    1.4850061043203149,
                    -1.115575873841934,
                    0.6003617396041584,
                    0.5284742691221878,
                    -3.1364922374227056,
                    -0.3378098375344884,
                    1.139299754169261,
                    0.4126965864106113,
                    -0.9388835211266169,
                    0.6640482925178582,
                    0.9109011206052083,
                    2.3715125591453123,
                    0.02082019622466147,
                    0.8888760033112441,
                    -0.7444376040591674,
                    -1.0395298807118047,
                    0.3039178939603838,
                    -0.8178764348902015,
                    -1.7736496966764284,
                    -0.956777589345725,
                    -0.06382999824671495,
                    1.1797704473084043,
                    1.0504576799271865,
                    -0.6110159200090726,
                    -1.887013148663694,
                    1.109472752281482,
                    -1.6477120433828867,
                    0.43285664974436094,
                    0.2373032560954963,
                    0.6778797383857715,
                    0.6489304089441996,
                    -0.050419520889978746,
                    -0.5416748225713447,
                    -0.8072885620342622,
                    -0.8741127914372503,
                    0.4248594862865385,
                    -1.1709935986811832,
                    1.485079952106532,
                    -0.9443379102015994,
                    1.032959427974537,
                    1.0713451590785827,
                    1.272574578438379,
                    0.6375881843356097,
                    0.9591810678013113,
                    -0.6508940865642443,
                    1.3980107767715855,
                    -1.1833407898260695,
                    -0.2204798238201087,
                    -1.6458561839898291,
                    -1.414980339507175,
                    -1.3611919337407394,
                    -1.6179969775860432,
                    -0.8828542269992773,
                    0.3162774145361792,
                    0.6893604841845098,
                    0.04817587035902388,
                    -0.9823827510386163,
                    -0.6858973223491422,
                    1.8520085490150875,
                    1.0168253882995404,
                    1.6962954319347066,
                    0.9504958707665054,
                    0.46880921094640343,
                    -2.5762036588595327,
                    1.7329811829236115,
                    1.6701734977493339,
                    0.2206442043170212,
                    -0.2419566085871851,
                    2.0437459220176097,
                    -0.48500607046796423,
                    -0.060209369071032706
                  ],
                  "yaxis": "y"
                }
              ],
              "layout": {
                "coloraxis": {
                  "colorbar": {
                    "title": {
                      "font": {
                        "family": "Arial",
                        "size": 14
                      },
                      "text": "Happiness Score"
                    }
                  },
                  "colorscale": [
                    [
                      0,
                      "#30123b"
                    ],
                    [
                      0.07142857142857142,
                      "#4145ab"
                    ],
                    [
                      0.14285714285714285,
                      "#4675ed"
                    ],
                    [
                      0.21428571428571427,
                      "#39a2fc"
                    ],
                    [
                      0.2857142857142857,
                      "#1bcfd4"
                    ],
                    [
                      0.35714285714285715,
                      "#24eca6"
                    ],
                    [
                      0.42857142857142855,
                      "#61fc6c"
                    ],
                    [
                      0.5,
                      "#a4fc3b"
                    ],
                    [
                      0.5714285714285714,
                      "#d1e834"
                    ],
                    [
                      0.6428571428571429,
                      "#f3c63a"
                    ],
                    [
                      0.7142857142857143,
                      "#fe9b2d"
                    ],
                    [
                      0.7857142857142857,
                      "#f36315"
                    ],
                    [
                      0.8571428571428571,
                      "#d93806"
                    ],
                    [
                      0.9285714285714286,
                      "#b11901"
                    ],
                    [
                      1,
                      "#7a0402"
                    ]
                  ]
                },
                "legend": {
                  "title": {
                    "font": {
                      "family": "Arial",
                      "size": 14
                    },
                    "text": "Happiness Category"
                  },
                  "tracegroupgap": 0
                },
                "template": {
                  "data": {
                    "bar": [
                      {
                        "error_x": {
                          "color": "#2a3f5f"
                        },
                        "error_y": {
                          "color": "#2a3f5f"
                        },
                        "marker": {
                          "line": {
                            "color": "#E5ECF6",
                            "width": 0.5
                          },
                          "pattern": {
                            "fillmode": "overlay",
                            "size": 10,
                            "solidity": 0.2
                          }
                        },
                        "type": "bar"
                      }
                    ],
                    "barpolar": [
                      {
                        "marker": {
                          "line": {
                            "color": "#E5ECF6",
                            "width": 0.5
                          },
                          "pattern": {
                            "fillmode": "overlay",
                            "size": 10,
                            "solidity": 0.2
                          }
                        },
                        "type": "barpolar"
                      }
                    ],
                    "carpet": [
                      {
                        "aaxis": {
                          "endlinecolor": "#2a3f5f",
                          "gridcolor": "white",
                          "linecolor": "white",
                          "minorgridcolor": "white",
                          "startlinecolor": "#2a3f5f"
                        },
                        "baxis": {
                          "endlinecolor": "#2a3f5f",
                          "gridcolor": "white",
                          "linecolor": "white",
                          "minorgridcolor": "white",
                          "startlinecolor": "#2a3f5f"
                        },
                        "type": "carpet"
                      }
                    ],
                    "choropleth": [
                      {
                        "colorbar": {
                          "outlinewidth": 0,
                          "ticks": ""
                        },
                        "type": "choropleth"
                      }
                    ],
                    "contour": [
                      {
                        "colorbar": {
                          "outlinewidth": 0,
                          "ticks": ""
                        },
                        "colorscale": [
                          [
                            0,
                            "#0d0887"
                          ],
                          [
                            0.1111111111111111,
                            "#46039f"
                          ],
                          [
                            0.2222222222222222,
                            "#7201a8"
                          ],
                          [
                            0.3333333333333333,
                            "#9c179e"
                          ],
                          [
                            0.4444444444444444,
                            "#bd3786"
                          ],
                          [
                            0.5555555555555556,
                            "#d8576b"
                          ],
                          [
                            0.6666666666666666,
                            "#ed7953"
                          ],
                          [
                            0.7777777777777778,
                            "#fb9f3a"
                          ],
                          [
                            0.8888888888888888,
                            "#fdca26"
                          ],
                          [
                            1,
                            "#f0f921"
                          ]
                        ],
                        "type": "contour"
                      }
                    ],
                    "contourcarpet": [
                      {
                        "colorbar": {
                          "outlinewidth": 0,
                          "ticks": ""
                        },
                        "type": "contourcarpet"
                      }
                    ],
                    "heatmap": [
                      {
                        "colorbar": {
                          "outlinewidth": 0,
                          "ticks": ""
                        },
                        "colorscale": [
                          [
                            0,
                            "#0d0887"
                          ],
                          [
                            0.1111111111111111,
                            "#46039f"
                          ],
                          [
                            0.2222222222222222,
                            "#7201a8"
                          ],
                          [
                            0.3333333333333333,
                            "#9c179e"
                          ],
                          [
                            0.4444444444444444,
                            "#bd3786"
                          ],
                          [
                            0.5555555555555556,
                            "#d8576b"
                          ],
                          [
                            0.6666666666666666,
                            "#ed7953"
                          ],
                          [
                            0.7777777777777778,
                            "#fb9f3a"
                          ],
                          [
                            0.8888888888888888,
                            "#fdca26"
                          ],
                          [
                            1,
                            "#f0f921"
                          ]
                        ],
                        "type": "heatmap"
                      }
                    ],
                    "heatmapgl": [
                      {
                        "colorbar": {
                          "outlinewidth": 0,
                          "ticks": ""
                        },
                        "colorscale": [
                          [
                            0,
                            "#0d0887"
                          ],
                          [
                            0.1111111111111111,
                            "#46039f"
                          ],
                          [
                            0.2222222222222222,
                            "#7201a8"
                          ],
                          [
                            0.3333333333333333,
                            "#9c179e"
                          ],
                          [
                            0.4444444444444444,
                            "#bd3786"
                          ],
                          [
                            0.5555555555555556,
                            "#d8576b"
                          ],
                          [
                            0.6666666666666666,
                            "#ed7953"
                          ],
                          [
                            0.7777777777777778,
                            "#fb9f3a"
                          ],
                          [
                            0.8888888888888888,
                            "#fdca26"
                          ],
                          [
                            1,
                            "#f0f921"
                          ]
                        ],
                        "type": "heatmapgl"
                      }
                    ],
                    "histogram": [
                      {
                        "marker": {
                          "pattern": {
                            "fillmode": "overlay",
                            "size": 10,
                            "solidity": 0.2
                          }
                        },
                        "type": "histogram"
                      }
                    ],
                    "histogram2d": [
                      {
                        "colorbar": {
                          "outlinewidth": 0,
                          "ticks": ""
                        },
                        "colorscale": [
                          [
                            0,
                            "#0d0887"
                          ],
                          [
                            0.1111111111111111,
                            "#46039f"
                          ],
                          [
                            0.2222222222222222,
                            "#7201a8"
                          ],
                          [
                            0.3333333333333333,
                            "#9c179e"
                          ],
                          [
                            0.4444444444444444,
                            "#bd3786"
                          ],
                          [
                            0.5555555555555556,
                            "#d8576b"
                          ],
                          [
                            0.6666666666666666,
                            "#ed7953"
                          ],
                          [
                            0.7777777777777778,
                            "#fb9f3a"
                          ],
                          [
                            0.8888888888888888,
                            "#fdca26"
                          ],
                          [
                            1,
                            "#f0f921"
                          ]
                        ],
                        "type": "histogram2d"
                      }
                    ],
                    "histogram2dcontour": [
                      {
                        "colorbar": {
                          "outlinewidth": 0,
                          "ticks": ""
                        },
                        "colorscale": [
                          [
                            0,
                            "#0d0887"
                          ],
                          [
                            0.1111111111111111,
                            "#46039f"
                          ],
                          [
                            0.2222222222222222,
                            "#7201a8"
                          ],
                          [
                            0.3333333333333333,
                            "#9c179e"
                          ],
                          [
                            0.4444444444444444,
                            "#bd3786"
                          ],
                          [
                            0.5555555555555556,
                            "#d8576b"
                          ],
                          [
                            0.6666666666666666,
                            "#ed7953"
                          ],
                          [
                            0.7777777777777778,
                            "#fb9f3a"
                          ],
                          [
                            0.8888888888888888,
                            "#fdca26"
                          ],
                          [
                            1,
                            "#f0f921"
                          ]
                        ],
                        "type": "histogram2dcontour"
                      }
                    ],
                    "mesh3d": [
                      {
                        "colorbar": {
                          "outlinewidth": 0,
                          "ticks": ""
                        },
                        "type": "mesh3d"
                      }
                    ],
                    "parcoords": [
                      {
                        "line": {
                          "colorbar": {
                            "outlinewidth": 0,
                            "ticks": ""
                          }
                        },
                        "type": "parcoords"
                      }
                    ],
                    "pie": [
                      {
                        "automargin": true,
                        "type": "pie"
                      }
                    ],
                    "scatter": [
                      {
                        "fillpattern": {
                          "fillmode": "overlay",
                          "size": 10,
                          "solidity": 0.2
                        },
                        "type": "scatter"
                      }
                    ],
                    "scatter3d": [
                      {
                        "line": {
                          "colorbar": {
                            "outlinewidth": 0,
                            "ticks": ""
                          }
                        },
                        "marker": {
                          "colorbar": {
                            "outlinewidth": 0,
                            "ticks": ""
                          }
                        },
                        "type": "scatter3d"
                      }
                    ],
                    "scattercarpet": [
                      {
                        "marker": {
                          "colorbar": {
                            "outlinewidth": 0,
                            "ticks": ""
                          }
                        },
                        "type": "scattercarpet"
                      }
                    ],
                    "scattergeo": [
                      {
                        "marker": {
                          "colorbar": {
                            "outlinewidth": 0,
                            "ticks": ""
                          }
                        },
                        "type": "scattergeo"
                      }
                    ],
                    "scattergl": [
                      {
                        "marker": {
                          "colorbar": {
                            "outlinewidth": 0,
                            "ticks": ""
                          }
                        },
                        "type": "scattergl"
                      }
                    ],
                    "scattermapbox": [
                      {
                        "marker": {
                          "colorbar": {
                            "outlinewidth": 0,
                            "ticks": ""
                          }
                        },
                        "type": "scattermapbox"
                      }
                    ],
                    "scatterpolar": [
                      {
                        "marker": {
                          "colorbar": {
                            "outlinewidth": 0,
                            "ticks": ""
                          }
                        },
                        "type": "scatterpolar"
                      }
                    ],
                    "scatterpolargl": [
                      {
                        "marker": {
                          "colorbar": {
                            "outlinewidth": 0,
                            "ticks": ""
                          }
                        },
                        "type": "scatterpolargl"
                      }
                    ],
                    "scatterternary": [
                      {
                        "marker": {
                          "colorbar": {
                            "outlinewidth": 0,
                            "ticks": ""
                          }
                        },
                        "type": "scatterternary"
                      }
                    ],
                    "surface": [
                      {
                        "colorbar": {
                          "outlinewidth": 0,
                          "ticks": ""
                        },
                        "colorscale": [
                          [
                            0,
                            "#0d0887"
                          ],
                          [
                            0.1111111111111111,
                            "#46039f"
                          ],
                          [
                            0.2222222222222222,
                            "#7201a8"
                          ],
                          [
                            0.3333333333333333,
                            "#9c179e"
                          ],
                          [
                            0.4444444444444444,
                            "#bd3786"
                          ],
                          [
                            0.5555555555555556,
                            "#d8576b"
                          ],
                          [
                            0.6666666666666666,
                            "#ed7953"
                          ],
                          [
                            0.7777777777777778,
                            "#fb9f3a"
                          ],
                          [
                            0.8888888888888888,
                            "#fdca26"
                          ],
                          [
                            1,
                            "#f0f921"
                          ]
                        ],
                        "type": "surface"
                      }
                    ],
                    "table": [
                      {
                        "cells": {
                          "fill": {
                            "color": "#EBF0F8"
                          },
                          "line": {
                            "color": "white"
                          }
                        },
                        "header": {
                          "fill": {
                            "color": "#C8D4E3"
                          },
                          "line": {
                            "color": "white"
                          }
                        },
                        "type": "table"
                      }
                    ]
                  },
                  "layout": {
                    "annotationdefaults": {
                      "arrowcolor": "#2a3f5f",
                      "arrowhead": 0,
                      "arrowwidth": 1
                    },
                    "autotypenumbers": "strict",
                    "coloraxis": {
                      "colorbar": {
                        "outlinewidth": 0,
                        "ticks": ""
                      }
                    },
                    "colorscale": {
                      "diverging": [
                        [
                          0,
                          "#8e0152"
                        ],
                        [
                          0.1,
                          "#c51b7d"
                        ],
                        [
                          0.2,
                          "#de77ae"
                        ],
                        [
                          0.3,
                          "#f1b6da"
                        ],
                        [
                          0.4,
                          "#fde0ef"
                        ],
                        [
                          0.5,
                          "#f7f7f7"
                        ],
                        [
                          0.6,
                          "#e6f5d0"
                        ],
                        [
                          0.7,
                          "#b8e186"
                        ],
                        [
                          0.8,
                          "#7fbc41"
                        ],
                        [
                          0.9,
                          "#4d9221"
                        ],
                        [
                          1,
                          "#276419"
                        ]
                      ],
                      "sequential": [
                        [
                          0,
                          "#0d0887"
                        ],
                        [
                          0.1111111111111111,
                          "#46039f"
                        ],
                        [
                          0.2222222222222222,
                          "#7201a8"
                        ],
                        [
                          0.3333333333333333,
                          "#9c179e"
                        ],
                        [
                          0.4444444444444444,
                          "#bd3786"
                        ],
                        [
                          0.5555555555555556,
                          "#d8576b"
                        ],
                        [
                          0.6666666666666666,
                          "#ed7953"
                        ],
                        [
                          0.7777777777777778,
                          "#fb9f3a"
                        ],
                        [
                          0.8888888888888888,
                          "#fdca26"
                        ],
                        [
                          1,
                          "#f0f921"
                        ]
                      ],
                      "sequentialminus": [
                        [
                          0,
                          "#0d0887"
                        ],
                        [
                          0.1111111111111111,
                          "#46039f"
                        ],
                        [
                          0.2222222222222222,
                          "#7201a8"
                        ],
                        [
                          0.3333333333333333,
                          "#9c179e"
                        ],
                        [
                          0.4444444444444444,
                          "#bd3786"
                        ],
                        [
                          0.5555555555555556,
                          "#d8576b"
                        ],
                        [
                          0.6666666666666666,
                          "#ed7953"
                        ],
                        [
                          0.7777777777777778,
                          "#fb9f3a"
                        ],
                        [
                          0.8888888888888888,
                          "#fdca26"
                        ],
                        [
                          1,
                          "#f0f921"
                        ]
                      ]
                    },
                    "colorway": [
                      "#636efa",
                      "#EF553B",
                      "#00cc96",
                      "#ab63fa",
                      "#FFA15A",
                      "#19d3f3",
                      "#FF6692",
                      "#B6E880",
                      "#FF97FF",
                      "#FECB52"
                    ],
                    "font": {
                      "color": "#2a3f5f"
                    },
                    "geo": {
                      "bgcolor": "white",
                      "lakecolor": "white",
                      "landcolor": "#E5ECF6",
                      "showlakes": true,
                      "showland": true,
                      "subunitcolor": "white"
                    },
                    "hoverlabel": {
                      "align": "left"
                    },
                    "hovermode": "closest",
                    "mapbox": {
                      "style": "light"
                    },
                    "paper_bgcolor": "white",
                    "plot_bgcolor": "#E5ECF6",
                    "polar": {
                      "angularaxis": {
                        "gridcolor": "white",
                        "linecolor": "white",
                        "ticks": ""
                      },
                      "bgcolor": "#E5ECF6",
                      "radialaxis": {
                        "gridcolor": "white",
                        "linecolor": "white",
                        "ticks": ""
                      }
                    },
                    "scene": {
                      "xaxis": {
                        "backgroundcolor": "#E5ECF6",
                        "gridcolor": "white",
                        "gridwidth": 2,
                        "linecolor": "white",
                        "showbackground": true,
                        "ticks": "",
                        "zerolinecolor": "white"
                      },
                      "yaxis": {
                        "backgroundcolor": "#E5ECF6",
                        "gridcolor": "white",
                        "gridwidth": 2,
                        "linecolor": "white",
                        "showbackground": true,
                        "ticks": "",
                        "zerolinecolor": "white"
                      },
                      "zaxis": {
                        "backgroundcolor": "#E5ECF6",
                        "gridcolor": "white",
                        "gridwidth": 2,
                        "linecolor": "white",
                        "showbackground": true,
                        "ticks": "",
                        "zerolinecolor": "white"
                      }
                    },
                    "shapedefaults": {
                      "line": {
                        "color": "#2a3f5f"
                      }
                    },
                    "ternary": {
                      "aaxis": {
                        "gridcolor": "white",
                        "linecolor": "white",
                        "ticks": ""
                      },
                      "baxis": {
                        "gridcolor": "white",
                        "linecolor": "white",
                        "ticks": ""
                      },
                      "bgcolor": "#E5ECF6",
                      "caxis": {
                        "gridcolor": "white",
                        "linecolor": "white",
                        "ticks": ""
                      }
                    },
                    "title": {
                      "x": 0.05
                    },
                    "xaxis": {
                      "automargin": true,
                      "gridcolor": "white",
                      "linecolor": "white",
                      "ticks": "",
                      "title": {
                        "standoff": 15
                      },
                      "zerolinecolor": "white",
                      "zerolinewidth": 2
                    },
                    "yaxis": {
                      "automargin": true,
                      "gridcolor": "white",
                      "linecolor": "white",
                      "ticks": "",
                      "title": {
                        "standoff": 15
                      },
                      "zerolinecolor": "white",
                      "zerolinewidth": 2
                    }
                  }
                },
                "title": {
                  "font": {
                    "family": "Arial",
                    "size": 20
                  },
                  "text": "Plot of First and Second Principal Component by Happiness Score",
                  "x": 0.5
                },
                "xaxis": {
                  "anchor": "y",
                  "domain": [
                    0,
                    1
                  ],
                  "title": {
                    "font": {
                      "family": "Arial",
                      "size": 18
                    },
                    "text": "Principal Component 1"
                  }
                },
                "yaxis": {
                  "anchor": "x",
                  "domain": [
                    0,
                    1
                  ],
                  "title": {
                    "font": {
                      "family": "Arial",
                      "size": 18
                    },
                    "text": "Principal Component 2"
                  }
                }
              }
            }
          },
          "metadata": {},
          "output_type": "display_data"
        }
      ],
      "source": [
        "# Make an interactive scatter plot by happiness score\n",
        "fig = px.scatter(df_projected_data, x=\"PC1\", y=\"PC2\", color=\"ladder\",\n",
        "                 color_continuous_scale=px.colors.sequential.Turbo,\n",
        "                 title=\"Plot of First and Second Principal Component by Happiness Score\",\n",
        "                 labels={\"country\": \"Country\", \"PC1\": \"Principal Component 1\", \"PC2\": \"Principal Component 2\",\n",
        "                         \"ladder\": \"Happiness Category\"},\n",
        "                 hover_data=[\"country\", \"ladder\"])\n",
        "fig.update_layout(\n",
        "    title=dict(x=0.5, font=dict(size=20, family=\"Arial\")),\n",
        "    xaxis=dict(title=dict(text=\"Principal Component 1\", font=dict(size=18, family=\"Arial\"))),\n",
        "    yaxis=dict(title=dict(text=\"Principal Component 2\", font=dict(size=18, family=\"Arial\"))),\n",
        "    legend=dict(title=dict(text=\"Happiness Category\", font=dict(size=14, family=\"Arial\"))),\n",
        "    coloraxis_colorbar=dict(title=dict(text=\"Happiness Score\", font=dict(size=14, family=\"Arial\")))\n",
        ")\n",
        "fig.show()\n"
      ]
    },
    {
      "cell_type": "markdown",
      "metadata": {},
      "source": [
        "* Since the explained variance of the first PC is high, the red and blue points are separated along PC1\n",
        "* However, the explained variance of the second PC is low, it would not be so helpful to separate the points"
      ]
    },
    {
      "cell_type": "code",
      "execution_count": 25,
      "metadata": {},
      "outputs": [],
      "source": [
        "# Create a variable \"continent\" for interpretation\n",
        "def country_to_continent(country_name):\n",
        "    try: \n",
        "        country_alpha2 = pc.country_name_to_country_alpha2(country_name)\n",
        "        country_continent_code = pc.country_alpha2_to_continent_code(country_alpha2)\n",
        "        country_continent_name = pc.convert_continent_code_to_continent_name(country_continent_code)\n",
        "        return country_continent_name\n",
        "    except KeyError: \n",
        "        return \"Not found\"\n",
        "    except Exception:\n",
        "        return \"Others\""
      ]
    },
    {
      "cell_type": "code",
      "execution_count": 26,
      "metadata": {},
      "outputs": [],
      "source": [
        "df_projected_data[\"continent\"] = df_projected_data.country.apply(country_to_continent)"
      ]
    },
    {
      "cell_type": "code",
      "execution_count": 28,
      "metadata": {},
      "outputs": [
        {
          "name": "stdout",
          "output_type": "stream",
          "text": [
            "continent\n",
            "Africa           28\n",
            "Asia             19\n",
            "Europe           33\n",
            "North America    11\n",
            "Not found         2\n",
            "Oceania           2\n",
            "South America     9\n",
            "dtype: int64\n"
          ]
        },
        {
          "data": {
            "text/html": [
              "<div>\n",
              "<style scoped>\n",
              "    .dataframe tbody tr th:only-of-type {\n",
              "        vertical-align: middle;\n",
              "    }\n",
              "\n",
              "    .dataframe tbody tr th {\n",
              "        vertical-align: top;\n",
              "    }\n",
              "\n",
              "    .dataframe thead th {\n",
              "        text-align: right;\n",
              "    }\n",
              "</style>\n",
              "<table border=\"1\" class=\"dataframe\">\n",
              "  <thead>\n",
              "    <tr style=\"text-align: right;\">\n",
              "      <th></th>\n",
              "      <th>country</th>\n",
              "      <th>PC1</th>\n",
              "      <th>PC2</th>\n",
              "      <th>ladder</th>\n",
              "      <th>continent</th>\n",
              "    </tr>\n",
              "  </thead>\n",
              "  <tbody>\n",
              "    <tr>\n",
              "      <th>19</th>\n",
              "      <td>Congo (Brazzaville)</td>\n",
              "      <td>2.229023</td>\n",
              "      <td>0.350839</td>\n",
              "      <td>5.804919</td>\n",
              "      <td>Not found</td>\n",
              "    </tr>\n",
              "    <tr>\n",
              "      <th>20</th>\n",
              "      <td>Congo (Kinshasa)</td>\n",
              "      <td>3.051026</td>\n",
              "      <td>0.626372</td>\n",
              "      <td>3.207197</td>\n",
              "      <td>Not found</td>\n",
              "    </tr>\n",
              "  </tbody>\n",
              "</table>\n",
              "</div>"
            ],
            "text/plain": [
              "                country       PC1       PC2    ladder  continent\n",
              "19  Congo (Brazzaville)  2.229023  0.350839  5.804919  Not found\n",
              "20     Congo (Kinshasa)  3.051026  0.626372  3.207197  Not found"
            ]
          },
          "execution_count": 28,
          "metadata": {},
          "output_type": "execute_result"
        }
      ],
      "source": [
        "# Manually fix the missing value of continent\n",
        "print(df_projected_data.groupby([\"continent\"]).size())\n",
        "df_projected_data[df_projected_data.continent.isin([\"Not found\", \"Others\"])]"
      ]
    },
    {
      "cell_type": "code",
      "execution_count": 29,
      "metadata": {},
      "outputs": [],
      "source": [
        "df_projected_data.at[19, \"continent\"] = \"Africa\"\n",
        "df_projected_data.at[20, \"continent\"] = \"Africa\""
      ]
    },
    {
      "cell_type": "code",
      "execution_count": 31,
      "metadata": {},
      "outputs": [
        {
          "data": {
            "application/vnd.plotly.v1+json": {
              "config": {
                "plotlyServerURL": "https://plot.ly"
              },
              "data": [
                {
                  "customdata": [
                    [
                      "Albania",
                      "Europe",
                      5.212213039398193
                    ],
                    [
                      "Austria",
                      "Europe",
                      6.998997211456299
                    ],
                    [
                      "Belgium",
                      "Europe",
                      6.856874465942383
                    ],
                    [
                      "Bulgaria",
                      "Europe",
                      5.3783488273620605
                    ],
                    [
                      "Croatia",
                      "Europe",
                      5.578691482543945
                    ],
                    [
                      "Czechia",
                      "Europe",
                      6.695077419281006
                    ],
                    [
                      "Denmark",
                      "Europe",
                      7.544964790344238
                    ],
                    [
                      "Estonia",
                      "Europe",
                      6.357114315032959
                    ],
                    [
                      "Finland",
                      "Europe",
                      7.728998184204102
                    ],
                    [
                      "France",
                      "Europe",
                      6.61380672454834
                    ],
                    [
                      "Germany",
                      "Europe",
                      6.608206748962402
                    ],
                    [
                      "Greece",
                      "Europe",
                      5.900459289550781
                    ],
                    [
                      "Hungary",
                      "Europe",
                      5.861183166503906
                    ],
                    [
                      "Iceland",
                      "Europe",
                      7.448794364929199
                    ],
                    [
                      "Ireland",
                      "Europe",
                      6.869863986968994
                    ],
                    [
                      "Italy",
                      "Europe",
                      6.258476734161377
                    ],
                    [
                      "Latvia",
                      "Europe",
                      6.054838180541992
                    ],
                    [
                      "Lithuania",
                      "Europe",
                      7.037577152252197
                    ],
                    [
                      "Luxembourg",
                      "Europe",
                      7.227934837341309
                    ],
                    [
                      "Moldova",
                      "Europe",
                      5.686611652374268
                    ],
                    [
                      "Netherlands",
                      "Europe",
                      7.389636039733887
                    ],
                    [
                      "North Macedonia",
                      "Europe",
                      5.166881561279297
                    ],
                    [
                      "Norway",
                      "Europe",
                      7.294604301452637
                    ],
                    [
                      "Poland",
                      "Europe",
                      6.66626501083374
                    ],
                    [
                      "Portugal",
                      "Europe",
                      5.952542781829834
                    ],
                    [
                      "Romania",
                      "Europe",
                      6.436973571777344
                    ],
                    [
                      "Russia",
                      "Europe",
                      6.04407262802124
                    ],
                    [
                      "Slovenia",
                      "Europe",
                      6.723397731781006
                    ],
                    [
                      "Spain",
                      "Europe",
                      6.336902141571045
                    ],
                    [
                      "Sweden",
                      "Europe",
                      7.431214332580566
                    ],
                    [
                      "Switzerland",
                      "Europe",
                      6.883844375610352
                    ],
                    [
                      "Ukraine",
                      "Europe",
                      4.637436389923096
                    ],
                    [
                      "United Kingdom",
                      "Europe",
                      6.721779823303223
                    ]
                  ],
                  "hovertemplate": "Continent=%{customdata[1]}<br>Principal Component 1=%{x}<br>Principal Component 2=%{y}<br>Country=%{customdata[0]}<br>Happiness Category=%{customdata[2]}<extra></extra>",
                  "legendgroup": "Europe",
                  "marker": {
                    "color": "#4C78A8",
                    "symbol": "circle"
                  },
                  "mode": "markers",
                  "name": "Europe",
                  "orientation": "v",
                  "showlegend": true,
                  "type": "scatter",
                  "x": [
                    0.09794095677083908,
                    -2.00126854005275,
                    -2.2855713772405912,
                    -0.2765032246382779,
                    -0.12297627835880387,
                    -1.5059291008508362,
                    -3.2135190675264993,
                    -2.316311199687408,
                    -3.2147579149478545,
                    -1.7268360923709012,
                    -2.4464357718376806,
                    -0.023790784143469666,
                    -0.789964232332564,
                    -2.4080714851178464,
                    -2.8442181597455223,
                    -0.8996843232954852,
                    -0.7732628405368157,
                    -0.8859565252311773,
                    -2.8382755379263993,
                    0.12171267386562265,
                    -2.4169677004110475,
                    0.22149160602485468,
                    -2.9410010482030446,
                    -1.1191854262034506,
                    -1.1472287605241227,
                    -0.3188635344015299,
                    -0.5398621806246935,
                    -1.8769226567387338,
                    -1.5958674145918659,
                    -3.202124719260071,
                    -2.79498381488024,
                    0.03964708130289253,
                    -2.042137074673411
                  ],
                  "xaxis": "x",
                  "y": [
                    -0.82979840990143,
                    0.5533528048391323,
                    0.5241799268653906,
                    -1.8042683961602846,
                    -2.521783062608134,
                    -0.13187903932132497,
                    1.8004873930413594,
                    1.0560652570218478,
                    1.3726774730713454,
                    -0.4048128482875444,
                    0.6003617396041584,
                    -3.1364922374227056,
                    -0.9388835211266169,
                    0.6640482925178582,
                    0.8888760033112441,
                    -1.0395298807118047,
                    -0.6110159200090726,
                    -1.6477120433828867,
                    0.43285664974436094,
                    -0.8741127914372503,
                    1.0713451590785827,
                    -0.6508940865642443,
                    1.3980107767715855,
                    -1.414980339507175,
                    -1.3611919337407394,
                    -1.6179969775860432,
                    -0.8828542269992773,
                    0.04817587035902388,
                    -0.6858973223491422,
                    1.8520085490150875,
                    1.0168253882995404,
                    1.7329811829236115,
                    1.6701734977493339
                  ],
                  "yaxis": "y"
                },
                {
                  "customdata": [
                    [
                      "Argentina",
                      "South America",
                      6.260993480682373
                    ],
                    [
                      "Bolivia",
                      "South America",
                      5.928882122039795
                    ],
                    [
                      "Brazil",
                      "South America",
                      6.257079601287842
                    ],
                    [
                      "Chile",
                      "South America",
                      6.415198802947998
                    ],
                    [
                      "Colombia",
                      "South America",
                      5.891712188720703
                    ],
                    [
                      "Ecuador",
                      "South America",
                      5.887132167816162
                    ],
                    [
                      "Paraguay",
                      "South America",
                      6.1376118659973145
                    ],
                    [
                      "Peru",
                      "South America",
                      5.892068862915039
                    ],
                    [
                      "Uruguay",
                      "South America",
                      6.6708526611328125
                    ]
                  ],
                  "hovertemplate": "Continent=%{customdata[1]}<br>Principal Component 1=%{x}<br>Principal Component 2=%{y}<br>Country=%{customdata[0]}<br>Happiness Category=%{customdata[2]}<extra></extra>",
                  "legendgroup": "South America",
                  "marker": {
                    "color": "#F58518",
                    "symbol": "circle"
                  },
                  "mode": "markers",
                  "name": "South America",
                  "orientation": "v",
                  "showlegend": true,
                  "type": "scatter",
                  "x": [
                    -0.5940094868200806,
                    0.2951675379855982,
                    -0.37351152276676675,
                    -0.8757942325829493,
                    -0.3958007510371785,
                    0.07291370420453654,
                    -0.5738762101959574,
                    -0.008813821012620772,
                    -1.2105782229907989
                  ],
                  "xaxis": "x",
                  "y": [
                    -1.1260987229352069,
                    -0.4626586386756007,
                    -0.48701158663454924,
                    -0.7829304556933097,
                    -1.4917347272974817,
                    -1.0996781967147413,
                    -0.2204798238201087,
                    -1.6458561839898291,
                    -0.2419566085871851
                  ],
                  "yaxis": "y"
                },
                {
                  "customdata": [
                    [
                      "Armenia",
                      "Asia",
                      5.3819427490234375
                    ],
                    [
                      "Bangladesh",
                      "Asia",
                      3.407532215118408
                    ],
                    [
                      "Cambodia",
                      "Asia",
                      4.250280857086182
                    ],
                    [
                      "Georgia",
                      "Asia",
                      5.292755126953125
                    ],
                    [
                      "India",
                      "Asia",
                      3.929816246032715
                    ],
                    [
                      "Indonesia",
                      "Asia",
                      5.584685802459717
                    ],
                    [
                      "Iran",
                      "Asia",
                      4.976995468139648
                    ],
                    [
                      "Israel",
                      "Asia",
                      7.662397384643555
                    ],
                    [
                      "Japan",
                      "Asia",
                      6.178009986877441
                    ],
                    [
                      "Jordan",
                      "Asia",
                      4.355606555938721
                    ],
                    [
                      "Kazakhstan",
                      "Asia",
                      6.006279468536377
                    ],
                    [
                      "Kyrgyzstan",
                      "Asia",
                      5.667840957641602
                    ],
                    [
                      "Lebanon",
                      "Asia",
                      2.3524277210235596
                    ],
                    [
                      "Mongolia",
                      "Asia",
                      5.787830352783203
                    ],
                    [
                      "Nepal",
                      "Asia",
                      5.474175930023193
                    ],
                    [
                      "South Korea",
                      "Asia",
                      5.950013637542725
                    ],
                    [
                      "Thailand",
                      "Asia",
                      6.00711727142334
                    ],
                    [
                      "Uzbekistan",
                      "Asia",
                      6.016238689422607
                    ],
                    [
                      "Vietnam",
                      "Asia",
                      6.26650857925415
                    ]
                  ],
                  "hovertemplate": "Continent=%{customdata[1]}<br>Principal Component 1=%{x}<br>Principal Component 2=%{y}<br>Country=%{customdata[0]}<br>Happiness Category=%{customdata[2]}<extra></extra>",
                  "legendgroup": "Asia",
                  "marker": {
                    "color": "#E45756",
                    "symbol": "circle"
                  },
                  "mode": "markers",
                  "name": "Asia",
                  "orientation": "v",
                  "showlegend": true,
                  "type": "scatter",
                  "x": [
                    -0.299930008468933,
                    1.3381360204253447,
                    0.537981581687768,
                    -0.05047014495458962,
                    1.051918268135498,
                    -0.13792679779285907,
                    0.5507044948099117,
                    -1.7529724426071325,
                    -1.6776966471936339,
                    0.19766682006922173,
                    -1.0775393004198448,
                    -0.46058312791770095,
                    2.298916431028719,
                    0.3666923198515616,
                    0.8350096652740018,
                    -1.0395993649435504,
                    -0.719897754769458,
                    -0.8851045713623811,
                    -0.767139120086304
                  ],
                  "xaxis": "x",
                  "y": [
                    -1.002234026399501,
                    0.5645244134237788,
                    1.05437670886029,
                    -1.115575873841934,
                    0.9109011206052083,
                    2.3715125591453123,
                    0.02082019622466147,
                    -0.7444376040591674,
                    -1.7736496966764284,
                    -0.956777589345725,
                    -0.06382999824671495,
                    1.0504576799271865,
                    -1.887013148663694,
                    0.4248594862865385,
                    1.032959427974537,
                    -0.9823827510386163,
                    0.9504958707665054,
                    2.0437459220176097,
                    -0.48500607046796423
                  ],
                  "yaxis": "y"
                },
                {
                  "customdata": [
                    [
                      "Australia",
                      "Oceania",
                      7.034696102142334
                    ],
                    [
                      "New Zealand",
                      "Oceania",
                      6.974986553192139
                    ]
                  ],
                  "hovertemplate": "Continent=%{customdata[1]}<br>Principal Component 1=%{x}<br>Principal Component 2=%{y}<br>Country=%{customdata[0]}<br>Happiness Category=%{customdata[2]}<extra></extra>",
                  "legendgroup": "Oceania",
                  "marker": {
                    "color": "#72B7B2",
                    "symbol": "circle"
                  },
                  "mode": "markers",
                  "name": "Oceania",
                  "orientation": "v",
                  "showlegend": true,
                  "type": "scatter",
                  "x": [
                    -2.134042861303759,
                    -2.475086494746995
                  ],
                  "xaxis": "x",
                  "y": [
                    0.5312769093322564,
                    1.272574578438379
                  ],
                  "yaxis": "y"
                },
                {
                  "customdata": [
                    [
                      "Benin",
                      "Africa",
                      4.217325687408447
                    ],
                    [
                      "Botswana",
                      "Africa",
                      3.435275077819824
                    ],
                    [
                      "Cameroon",
                      "Africa",
                      4.712408065795898
                    ],
                    [
                      "Chad",
                      "Africa",
                      4.396646022796631
                    ],
                    [
                      "Comoros",
                      "Africa",
                      3.545203685760498
                    ],
                    [
                      "Congo (Brazzaville)",
                      "Africa",
                      5.8049187660217285
                    ],
                    [
                      "Congo (Kinshasa)",
                      "Africa",
                      3.2071967124938965
                    ],
                    [
                      "Ethiopia",
                      "Africa",
                      3.6280715465545654
                    ],
                    [
                      "Gabon",
                      "Africa",
                      5.139500617980957
                    ],
                    [
                      "Gambia",
                      "Africa",
                      4.2794413566589355
                    ],
                    [
                      "Ghana",
                      "Africa",
                      4.190854549407959
                    ],
                    [
                      "Guinea",
                      "Africa",
                      5.317492961883545
                    ],
                    [
                      "Ivory Coast",
                      "Africa",
                      4.8486738204956055
                    ],
                    [
                      "Kenya",
                      "Africa",
                      4.447946548461914
                    ],
                    [
                      "Liberia",
                      "Africa",
                      4.04226016998291
                    ],
                    [
                      "Madagascar",
                      "Africa",
                      4.019134044647217
                    ],
                    [
                      "Malawi",
                      "Africa",
                      3.3555634021759033
                    ],
                    [
                      "Mali",
                      "Africa",
                      4.210547924041748
                    ],
                    [
                      "Mauritania",
                      "Africa",
                      4.7238688468933105
                    ],
                    [
                      "Mauritius",
                      "Africa",
                      5.7405009269714355
                    ],
                    [
                      "Morocco",
                      "Africa",
                      4.59609317779541
                    ],
                    [
                      "Mozambique",
                      "Africa",
                      4.739677429199219
                    ],
                    [
                      "Namibia",
                      "Africa",
                      4.948962688446045
                    ],
                    [
                      "Niger",
                      "Africa",
                      4.501331329345703
                    ],
                    [
                      "Senegal",
                      "Africa",
                      4.906819820404053
                    ],
                    [
                      "Sierra Leone",
                      "Africa",
                      2.560429573059082
                    ],
                    [
                      "Tanzania",
                      "Africa",
                      3.615845203399658
                    ],
                    [
                      "Togo",
                      "Africa",
                      4.238982200622559
                    ],
                    [
                      "Tunisia",
                      "Africa",
                      4.260868072509766
                    ],
                    [
                      "Zimbabwe",
                      "Africa",
                      3.29621958732605
                    ]
                  ],
                  "hovertemplate": "Continent=%{customdata[1]}<br>Principal Component 1=%{x}<br>Principal Component 2=%{y}<br>Country=%{customdata[0]}<br>Happiness Category=%{customdata[2]}<extra></extra>",
                  "legendgroup": "Africa",
                  "marker": {
                    "color": "#54A24B",
                    "symbol": "circle"
                  },
                  "mode": "markers",
                  "name": "Africa",
                  "orientation": "v",
                  "showlegend": true,
                  "type": "scatter",
                  "x": [
                    2.8586470064920912,
                    1.4989900684864381,
                    2.521356658043627,
                    2.768473719240699,
                    3.2794697196177474,
                    2.2290230550007584,
                    3.051026020377308,
                    1.7345088002468567,
                    1.1736219544522908,
                    2.9875117395943684,
                    1.8545202573350952,
                    2.6308329447111545,
                    2.360203719330623,
                    1.8537587627145293,
                    2.7632675284741706,
                    3.0068803406061066,
                    2.7608285173221394,
                    2.1588250594798892,
                    1.7682702891050734,
                    -0.2878967027098878,
                    1.3741616874426443,
                    2.165991135765963,
                    1.4809412858608189,
                    2.5706014772922012,
                    2.0108076454736765,
                    3.463819634273961,
                    1.3748354835686847,
                    2.50718269307535,
                    1.5484892565712607,
                    2.732685289826549
                  ],
                  "xaxis": "x",
                  "y": [
                    0.8130327484762554,
                    -1.132390920029556,
                    0.08198497137608357,
                    1.3606971938567747,
                    -0.3414685312543161,
                    0.35083921503119514,
                    0.6263717700937206,
                    1.604972334644362,
                    -1.1046945073315637,
                    1.4850061043203149,
                    0.5284742691221878,
                    1.139299754169261,
                    0.3039178939603838,
                    1.1797704473084043,
                    1.109472752281482,
                    0.2373032560954963,
                    0.6778797383857715,
                    0.6489304089441996,
                    -0.050419520889978746,
                    -0.5416748225713447,
                    -1.1709935986811832,
                    1.485079952106532,
                    -0.9443379102015994,
                    0.9591810678013113,
                    0.3162774145361792,
                    0.6893604841845098,
                    1.6962954319347066,
                    0.46880921094640343,
                    -2.5762036588595327,
                    -0.060209369071032706
                  ],
                  "yaxis": "y"
                },
                {
                  "customdata": [
                    [
                      "Canada",
                      "North America",
                      6.917935371398926
                    ],
                    [
                      "Costa Rica",
                      "North America",
                      7.076658248901367
                    ],
                    [
                      "Dominican Republic",
                      "North America",
                      5.518415927886963
                    ],
                    [
                      "El Salvador",
                      "North America",
                      6.492156028747559
                    ],
                    [
                      "Guatemala",
                      "North America",
                      6.150331497192383
                    ],
                    [
                      "Honduras",
                      "North America",
                      5.9318037033081055
                    ],
                    [
                      "Jamaica",
                      "North America",
                      5.870189189910889
                    ],
                    [
                      "Mexico",
                      "North America",
                      7.0383687019348145
                    ],
                    [
                      "Nicaragua",
                      "North America",
                      6.3922576904296875
                    ],
                    [
                      "Panama",
                      "North America",
                      5.979382038116455
                    ],
                    [
                      "United States",
                      "North America",
                      6.6927900314331055
                    ]
                  ],
                  "hovertemplate": "Continent=%{customdata[1]}<br>Principal Component 1=%{x}<br>Principal Component 2=%{y}<br>Country=%{customdata[0]}<br>Happiness Category=%{customdata[2]}<extra></extra>",
                  "legendgroup": "North America",
                  "marker": {
                    "color": "#EECA3B",
                    "symbol": "circle"
                  },
                  "mode": "markers",
                  "name": "North America",
                  "orientation": "v",
                  "showlegend": true,
                  "type": "scatter",
                  "x": [
                    -2.262332015507552,
                    -1.2643811936361944,
                    -0.4428936140040718,
                    -0.32956997716402225,
                    0.3979273013077332,
                    0.7128550475954573,
                    -0.08446929802773728,
                    -0.4605335565346062,
                    -0.48084785272060027,
                    -0.9740244901521524,
                    -0.9604148893381876
                  ],
                  "xaxis": "x",
                  "y": [
                    1.0520988548908046,
                    -0.47866422132781217,
                    -0.28886902008317605,
                    -0.037258641955745575,
                    -0.3378098375344884,
                    0.4126965864106113,
                    -0.8178764348902015,
                    -0.8072885620342622,
                    0.6375881843356097,
                    -1.1833407898260695,
                    0.2206442043170212
                  ],
                  "yaxis": "y"
                }
              ],
              "layout": {
                "legend": {
                  "title": {
                    "font": {
                      "family": "Arial",
                      "size": 14
                    },
                    "text": "Continent"
                  },
                  "tracegroupgap": 0
                },
                "template": {
                  "data": {
                    "bar": [
                      {
                        "error_x": {
                          "color": "#2a3f5f"
                        },
                        "error_y": {
                          "color": "#2a3f5f"
                        },
                        "marker": {
                          "line": {
                            "color": "#E5ECF6",
                            "width": 0.5
                          },
                          "pattern": {
                            "fillmode": "overlay",
                            "size": 10,
                            "solidity": 0.2
                          }
                        },
                        "type": "bar"
                      }
                    ],
                    "barpolar": [
                      {
                        "marker": {
                          "line": {
                            "color": "#E5ECF6",
                            "width": 0.5
                          },
                          "pattern": {
                            "fillmode": "overlay",
                            "size": 10,
                            "solidity": 0.2
                          }
                        },
                        "type": "barpolar"
                      }
                    ],
                    "carpet": [
                      {
                        "aaxis": {
                          "endlinecolor": "#2a3f5f",
                          "gridcolor": "white",
                          "linecolor": "white",
                          "minorgridcolor": "white",
                          "startlinecolor": "#2a3f5f"
                        },
                        "baxis": {
                          "endlinecolor": "#2a3f5f",
                          "gridcolor": "white",
                          "linecolor": "white",
                          "minorgridcolor": "white",
                          "startlinecolor": "#2a3f5f"
                        },
                        "type": "carpet"
                      }
                    ],
                    "choropleth": [
                      {
                        "colorbar": {
                          "outlinewidth": 0,
                          "ticks": ""
                        },
                        "type": "choropleth"
                      }
                    ],
                    "contour": [
                      {
                        "colorbar": {
                          "outlinewidth": 0,
                          "ticks": ""
                        },
                        "colorscale": [
                          [
                            0,
                            "#0d0887"
                          ],
                          [
                            0.1111111111111111,
                            "#46039f"
                          ],
                          [
                            0.2222222222222222,
                            "#7201a8"
                          ],
                          [
                            0.3333333333333333,
                            "#9c179e"
                          ],
                          [
                            0.4444444444444444,
                            "#bd3786"
                          ],
                          [
                            0.5555555555555556,
                            "#d8576b"
                          ],
                          [
                            0.6666666666666666,
                            "#ed7953"
                          ],
                          [
                            0.7777777777777778,
                            "#fb9f3a"
                          ],
                          [
                            0.8888888888888888,
                            "#fdca26"
                          ],
                          [
                            1,
                            "#f0f921"
                          ]
                        ],
                        "type": "contour"
                      }
                    ],
                    "contourcarpet": [
                      {
                        "colorbar": {
                          "outlinewidth": 0,
                          "ticks": ""
                        },
                        "type": "contourcarpet"
                      }
                    ],
                    "heatmap": [
                      {
                        "colorbar": {
                          "outlinewidth": 0,
                          "ticks": ""
                        },
                        "colorscale": [
                          [
                            0,
                            "#0d0887"
                          ],
                          [
                            0.1111111111111111,
                            "#46039f"
                          ],
                          [
                            0.2222222222222222,
                            "#7201a8"
                          ],
                          [
                            0.3333333333333333,
                            "#9c179e"
                          ],
                          [
                            0.4444444444444444,
                            "#bd3786"
                          ],
                          [
                            0.5555555555555556,
                            "#d8576b"
                          ],
                          [
                            0.6666666666666666,
                            "#ed7953"
                          ],
                          [
                            0.7777777777777778,
                            "#fb9f3a"
                          ],
                          [
                            0.8888888888888888,
                            "#fdca26"
                          ],
                          [
                            1,
                            "#f0f921"
                          ]
                        ],
                        "type": "heatmap"
                      }
                    ],
                    "heatmapgl": [
                      {
                        "colorbar": {
                          "outlinewidth": 0,
                          "ticks": ""
                        },
                        "colorscale": [
                          [
                            0,
                            "#0d0887"
                          ],
                          [
                            0.1111111111111111,
                            "#46039f"
                          ],
                          [
                            0.2222222222222222,
                            "#7201a8"
                          ],
                          [
                            0.3333333333333333,
                            "#9c179e"
                          ],
                          [
                            0.4444444444444444,
                            "#bd3786"
                          ],
                          [
                            0.5555555555555556,
                            "#d8576b"
                          ],
                          [
                            0.6666666666666666,
                            "#ed7953"
                          ],
                          [
                            0.7777777777777778,
                            "#fb9f3a"
                          ],
                          [
                            0.8888888888888888,
                            "#fdca26"
                          ],
                          [
                            1,
                            "#f0f921"
                          ]
                        ],
                        "type": "heatmapgl"
                      }
                    ],
                    "histogram": [
                      {
                        "marker": {
                          "pattern": {
                            "fillmode": "overlay",
                            "size": 10,
                            "solidity": 0.2
                          }
                        },
                        "type": "histogram"
                      }
                    ],
                    "histogram2d": [
                      {
                        "colorbar": {
                          "outlinewidth": 0,
                          "ticks": ""
                        },
                        "colorscale": [
                          [
                            0,
                            "#0d0887"
                          ],
                          [
                            0.1111111111111111,
                            "#46039f"
                          ],
                          [
                            0.2222222222222222,
                            "#7201a8"
                          ],
                          [
                            0.3333333333333333,
                            "#9c179e"
                          ],
                          [
                            0.4444444444444444,
                            "#bd3786"
                          ],
                          [
                            0.5555555555555556,
                            "#d8576b"
                          ],
                          [
                            0.6666666666666666,
                            "#ed7953"
                          ],
                          [
                            0.7777777777777778,
                            "#fb9f3a"
                          ],
                          [
                            0.8888888888888888,
                            "#fdca26"
                          ],
                          [
                            1,
                            "#f0f921"
                          ]
                        ],
                        "type": "histogram2d"
                      }
                    ],
                    "histogram2dcontour": [
                      {
                        "colorbar": {
                          "outlinewidth": 0,
                          "ticks": ""
                        },
                        "colorscale": [
                          [
                            0,
                            "#0d0887"
                          ],
                          [
                            0.1111111111111111,
                            "#46039f"
                          ],
                          [
                            0.2222222222222222,
                            "#7201a8"
                          ],
                          [
                            0.3333333333333333,
                            "#9c179e"
                          ],
                          [
                            0.4444444444444444,
                            "#bd3786"
                          ],
                          [
                            0.5555555555555556,
                            "#d8576b"
                          ],
                          [
                            0.6666666666666666,
                            "#ed7953"
                          ],
                          [
                            0.7777777777777778,
                            "#fb9f3a"
                          ],
                          [
                            0.8888888888888888,
                            "#fdca26"
                          ],
                          [
                            1,
                            "#f0f921"
                          ]
                        ],
                        "type": "histogram2dcontour"
                      }
                    ],
                    "mesh3d": [
                      {
                        "colorbar": {
                          "outlinewidth": 0,
                          "ticks": ""
                        },
                        "type": "mesh3d"
                      }
                    ],
                    "parcoords": [
                      {
                        "line": {
                          "colorbar": {
                            "outlinewidth": 0,
                            "ticks": ""
                          }
                        },
                        "type": "parcoords"
                      }
                    ],
                    "pie": [
                      {
                        "automargin": true,
                        "type": "pie"
                      }
                    ],
                    "scatter": [
                      {
                        "fillpattern": {
                          "fillmode": "overlay",
                          "size": 10,
                          "solidity": 0.2
                        },
                        "type": "scatter"
                      }
                    ],
                    "scatter3d": [
                      {
                        "line": {
                          "colorbar": {
                            "outlinewidth": 0,
                            "ticks": ""
                          }
                        },
                        "marker": {
                          "colorbar": {
                            "outlinewidth": 0,
                            "ticks": ""
                          }
                        },
                        "type": "scatter3d"
                      }
                    ],
                    "scattercarpet": [
                      {
                        "marker": {
                          "colorbar": {
                            "outlinewidth": 0,
                            "ticks": ""
                          }
                        },
                        "type": "scattercarpet"
                      }
                    ],
                    "scattergeo": [
                      {
                        "marker": {
                          "colorbar": {
                            "outlinewidth": 0,
                            "ticks": ""
                          }
                        },
                        "type": "scattergeo"
                      }
                    ],
                    "scattergl": [
                      {
                        "marker": {
                          "colorbar": {
                            "outlinewidth": 0,
                            "ticks": ""
                          }
                        },
                        "type": "scattergl"
                      }
                    ],
                    "scattermapbox": [
                      {
                        "marker": {
                          "colorbar": {
                            "outlinewidth": 0,
                            "ticks": ""
                          }
                        },
                        "type": "scattermapbox"
                      }
                    ],
                    "scatterpolar": [
                      {
                        "marker": {
                          "colorbar": {
                            "outlinewidth": 0,
                            "ticks": ""
                          }
                        },
                        "type": "scatterpolar"
                      }
                    ],
                    "scatterpolargl": [
                      {
                        "marker": {
                          "colorbar": {
                            "outlinewidth": 0,
                            "ticks": ""
                          }
                        },
                        "type": "scatterpolargl"
                      }
                    ],
                    "scatterternary": [
                      {
                        "marker": {
                          "colorbar": {
                            "outlinewidth": 0,
                            "ticks": ""
                          }
                        },
                        "type": "scatterternary"
                      }
                    ],
                    "surface": [
                      {
                        "colorbar": {
                          "outlinewidth": 0,
                          "ticks": ""
                        },
                        "colorscale": [
                          [
                            0,
                            "#0d0887"
                          ],
                          [
                            0.1111111111111111,
                            "#46039f"
                          ],
                          [
                            0.2222222222222222,
                            "#7201a8"
                          ],
                          [
                            0.3333333333333333,
                            "#9c179e"
                          ],
                          [
                            0.4444444444444444,
                            "#bd3786"
                          ],
                          [
                            0.5555555555555556,
                            "#d8576b"
                          ],
                          [
                            0.6666666666666666,
                            "#ed7953"
                          ],
                          [
                            0.7777777777777778,
                            "#fb9f3a"
                          ],
                          [
                            0.8888888888888888,
                            "#fdca26"
                          ],
                          [
                            1,
                            "#f0f921"
                          ]
                        ],
                        "type": "surface"
                      }
                    ],
                    "table": [
                      {
                        "cells": {
                          "fill": {
                            "color": "#EBF0F8"
                          },
                          "line": {
                            "color": "white"
                          }
                        },
                        "header": {
                          "fill": {
                            "color": "#C8D4E3"
                          },
                          "line": {
                            "color": "white"
                          }
                        },
                        "type": "table"
                      }
                    ]
                  },
                  "layout": {
                    "annotationdefaults": {
                      "arrowcolor": "#2a3f5f",
                      "arrowhead": 0,
                      "arrowwidth": 1
                    },
                    "autotypenumbers": "strict",
                    "coloraxis": {
                      "colorbar": {
                        "outlinewidth": 0,
                        "ticks": ""
                      }
                    },
                    "colorscale": {
                      "diverging": [
                        [
                          0,
                          "#8e0152"
                        ],
                        [
                          0.1,
                          "#c51b7d"
                        ],
                        [
                          0.2,
                          "#de77ae"
                        ],
                        [
                          0.3,
                          "#f1b6da"
                        ],
                        [
                          0.4,
                          "#fde0ef"
                        ],
                        [
                          0.5,
                          "#f7f7f7"
                        ],
                        [
                          0.6,
                          "#e6f5d0"
                        ],
                        [
                          0.7,
                          "#b8e186"
                        ],
                        [
                          0.8,
                          "#7fbc41"
                        ],
                        [
                          0.9,
                          "#4d9221"
                        ],
                        [
                          1,
                          "#276419"
                        ]
                      ],
                      "sequential": [
                        [
                          0,
                          "#0d0887"
                        ],
                        [
                          0.1111111111111111,
                          "#46039f"
                        ],
                        [
                          0.2222222222222222,
                          "#7201a8"
                        ],
                        [
                          0.3333333333333333,
                          "#9c179e"
                        ],
                        [
                          0.4444444444444444,
                          "#bd3786"
                        ],
                        [
                          0.5555555555555556,
                          "#d8576b"
                        ],
                        [
                          0.6666666666666666,
                          "#ed7953"
                        ],
                        [
                          0.7777777777777778,
                          "#fb9f3a"
                        ],
                        [
                          0.8888888888888888,
                          "#fdca26"
                        ],
                        [
                          1,
                          "#f0f921"
                        ]
                      ],
                      "sequentialminus": [
                        [
                          0,
                          "#0d0887"
                        ],
                        [
                          0.1111111111111111,
                          "#46039f"
                        ],
                        [
                          0.2222222222222222,
                          "#7201a8"
                        ],
                        [
                          0.3333333333333333,
                          "#9c179e"
                        ],
                        [
                          0.4444444444444444,
                          "#bd3786"
                        ],
                        [
                          0.5555555555555556,
                          "#d8576b"
                        ],
                        [
                          0.6666666666666666,
                          "#ed7953"
                        ],
                        [
                          0.7777777777777778,
                          "#fb9f3a"
                        ],
                        [
                          0.8888888888888888,
                          "#fdca26"
                        ],
                        [
                          1,
                          "#f0f921"
                        ]
                      ]
                    },
                    "colorway": [
                      "#636efa",
                      "#EF553B",
                      "#00cc96",
                      "#ab63fa",
                      "#FFA15A",
                      "#19d3f3",
                      "#FF6692",
                      "#B6E880",
                      "#FF97FF",
                      "#FECB52"
                    ],
                    "font": {
                      "color": "#2a3f5f"
                    },
                    "geo": {
                      "bgcolor": "white",
                      "lakecolor": "white",
                      "landcolor": "#E5ECF6",
                      "showlakes": true,
                      "showland": true,
                      "subunitcolor": "white"
                    },
                    "hoverlabel": {
                      "align": "left"
                    },
                    "hovermode": "closest",
                    "mapbox": {
                      "style": "light"
                    },
                    "paper_bgcolor": "white",
                    "plot_bgcolor": "#E5ECF6",
                    "polar": {
                      "angularaxis": {
                        "gridcolor": "white",
                        "linecolor": "white",
                        "ticks": ""
                      },
                      "bgcolor": "#E5ECF6",
                      "radialaxis": {
                        "gridcolor": "white",
                        "linecolor": "white",
                        "ticks": ""
                      }
                    },
                    "scene": {
                      "xaxis": {
                        "backgroundcolor": "#E5ECF6",
                        "gridcolor": "white",
                        "gridwidth": 2,
                        "linecolor": "white",
                        "showbackground": true,
                        "ticks": "",
                        "zerolinecolor": "white"
                      },
                      "yaxis": {
                        "backgroundcolor": "#E5ECF6",
                        "gridcolor": "white",
                        "gridwidth": 2,
                        "linecolor": "white",
                        "showbackground": true,
                        "ticks": "",
                        "zerolinecolor": "white"
                      },
                      "zaxis": {
                        "backgroundcolor": "#E5ECF6",
                        "gridcolor": "white",
                        "gridwidth": 2,
                        "linecolor": "white",
                        "showbackground": true,
                        "ticks": "",
                        "zerolinecolor": "white"
                      }
                    },
                    "shapedefaults": {
                      "line": {
                        "color": "#2a3f5f"
                      }
                    },
                    "ternary": {
                      "aaxis": {
                        "gridcolor": "white",
                        "linecolor": "white",
                        "ticks": ""
                      },
                      "baxis": {
                        "gridcolor": "white",
                        "linecolor": "white",
                        "ticks": ""
                      },
                      "bgcolor": "#E5ECF6",
                      "caxis": {
                        "gridcolor": "white",
                        "linecolor": "white",
                        "ticks": ""
                      }
                    },
                    "title": {
                      "x": 0.05
                    },
                    "xaxis": {
                      "automargin": true,
                      "gridcolor": "white",
                      "linecolor": "white",
                      "ticks": "",
                      "title": {
                        "standoff": 15
                      },
                      "zerolinecolor": "white",
                      "zerolinewidth": 2
                    },
                    "yaxis": {
                      "automargin": true,
                      "gridcolor": "white",
                      "linecolor": "white",
                      "ticks": "",
                      "title": {
                        "standoff": 15
                      },
                      "zerolinecolor": "white",
                      "zerolinewidth": 2
                    }
                  }
                },
                "title": {
                  "font": {
                    "family": "Arial",
                    "size": 20
                  },
                  "text": "Plot of First and Second Principal Component by Continent",
                  "x": 0.5
                },
                "xaxis": {
                  "anchor": "y",
                  "domain": [
                    0,
                    1
                  ],
                  "title": {
                    "font": {
                      "family": "Arial",
                      "size": 18
                    },
                    "text": "Principal Component 1"
                  }
                },
                "yaxis": {
                  "anchor": "x",
                  "domain": [
                    0,
                    1
                  ],
                  "title": {
                    "font": {
                      "family": "Arial",
                      "size": 18
                    },
                    "text": "Principal Component 2"
                  }
                }
              }
            }
          },
          "metadata": {},
          "output_type": "display_data"
        }
      ],
      "source": [
        "# Make an interactive scatter plot by continent\n",
        "fig = px.scatter(df_projected_data, x=\"PC1\", y=\"PC2\", color=\"continent\",\n",
        "                 color_discrete_sequence=px.colors.qualitative.T10,\n",
        "                 title=\"Plot of First and Second Principal Component by Continent\",\n",
        "                 labels={\"country\": \"Country\", \n",
        "                         \"PC1\": \"Principal Component 1\", \"PC2\": \"Principal Component 2\",\n",
        "                         \"continent\": \"Continent\",\n",
        "                         \"ladder\": \"Happiness Category\"},\n",
        "                 hover_data=[\"country\", \"continent\", \"ladder\"])\n",
        "fig.update_layout(\n",
        "    title=dict(x=0.5, font=dict(size=20, family=\"Arial\")),\n",
        "    xaxis=dict(title=dict(text=\"Principal Component 1\", font=dict(size=18, family=\"Arial\"))),\n",
        "    yaxis=dict(title=dict(text=\"Principal Component 2\", font=dict(size=18, family=\"Arial\"))),\n",
        "    legend=dict(title=dict(text=\"Continent\", font=dict(size=14, family=\"Arial\"))),\n",
        ")\n",
        "fig.show()"
      ]
    },
    {
      "cell_type": "markdown",
      "metadata": {},
      "source": [
        "1. Note that not all countries for each continent were included in the dataset. Hence, the following discussion on continents cannot represent all countries in continents. For example, Fiji is also in Oceania, but was not included in the dataset downloaded from WHO. \n",
        "2. The loadings from Step 4b show that `log_gdp` (-0.514729), `social_support` (-0.486380), `life_expectancy` (-0.503555), and `freedom` (-0.360563) have strong to moderate negative contributions to PC1, indicating that higher values in these well-being indicators correspond to lower PC1 scores. Conversely, `corruption` (0.335008) exhibits a moderate positive loading, suggesting that greater perceived corruption increases PC1 scores, while `generosity` (-0.051816) has a negligible negative loading, contributing little to this component. PC1 likely represents a 'well-being versus corruption' axis, where countries with high socioeconomic well-being (e.g., wealth, health, social support, and autonomy) and low corruption perception are characterized by strongly negative PC1 scores, and those with lower well-being and higher corruption perception have positive PC1 scores. Mapping countries to their continents reveals a clear pattern: most European countries (e.g., Denmark: -3.21, Finland: -3.21) exhibit negative PC1 scores, reflecting high well-being and low corruption, whereas most African countries (e.g., Sierra Leone: 3.46, Comoros: 3.28) show positive PC1 scores, indicating lower well-being and higher perceived corruption\n",
        "3. On PC2, the loadings indicate that `generosity` (0.776953) and `freedom` (0.327293) contribute positively, while `corruption` (-0.410169), `log_gdp` (-0.228428), `life_expectancy` (-0.227409), and `social_support` (-0.130733) have negative loadings, with the latter three being moderate to weak. PC2 might represent a 'generosity-driven resilience and freedom' axis, where countries with high generosity (adjusted for GDP), satisfaction with freedom, and lower perceived corruption have positive PC2 scores, while those with lower generosity, less freedom, and higher corruption perception have negative PC2 scores. After mapping countries to their continents, we observe that several Asian countries (e.g., Indonesia, Uzbekistan) and Northern European countries (e.g., Sweden, Denmark) tend to have positive PC2 scores, reflecting strong generosity and freedom, whereas Southern and Eastern European countries (e.g., Greece, Croatia) and some African countries (e.g., Tunisia) often have negative PC2 scores, potentially indicating lower generosity and higher corruption perception"
      ]
    },
    {
      "cell_type": "markdown",
      "metadata": {
        "id": "sWnMth8yuyH3"
      },
      "source": [
        "## Method 2: scikit-learn"
      ]
    },
    {
      "cell_type": "code",
      "execution_count": 33,
      "metadata": {
        "colab": {
          "base_uri": "https://localhost:8080/"
        },
        "id": "zhdPiaywDJ2w",
        "outputId": "2a7963a3-17c7-4ded-eb8b-846382e2d938"
      },
      "outputs": [
        {
          "name": "stdout",
          "output_type": "stream",
          "text": [
            "Eigenvalues: [3.15479086 1.26426015 0.66203788 0.60110484 0.21497689 0.10282939]\n",
            "Eigenvectors: [[ 0.51472891  0.48638021  0.50355543  0.36056268  0.05181583 -0.33500752]\n",
            " [-0.22842846 -0.13073287 -0.22740904  0.32729304  0.77695269 -0.41016859]\n",
            " [-0.11613546  0.37943389 -0.05539842  0.41762602  0.24773919  0.77697316]\n",
            " [-0.19838286 -0.20190405 -0.19011509  0.74335541 -0.55016707 -0.16874295]\n",
            " [-0.08502942  0.69717396 -0.62281349 -0.1667308  -0.15605807 -0.25820252]\n",
            " [ 0.78917766 -0.27487516 -0.51730811  0.08992163  0.07243624  0.14388077]]\n"
          ]
        }
      ],
      "source": [
        "# Step 2-3: Eigendecomposition (using sample covariance matrix)\n",
        "pca = PCA()\n",
        "pca.fit(scaled_data)\n",
        "print(f\"Eigenvalues: {pca.explained_variance_}\") \n",
        "print(f\"Eigenvectors: {pca.components_}\") "
      ]
    },
    {
      "cell_type": "code",
      "execution_count": 34,
      "metadata": {},
      "outputs": [
        {
          "name": "stdout",
          "output_type": "stream",
          "text": [
            "Eigenvalues: [3.15479086 1.26426015]\n",
            "Eigenvectors: [[ 0.51472891  0.48638021  0.50355543  0.36056268  0.05181583 -0.33500752]\n",
            " [-0.22842846 -0.13073287 -0.22740904  0.32729304  0.77695269 -0.41016859]]\n"
          ]
        }
      ],
      "source": [
        "# Step 4: Sort and Select Components\n",
        "pca = PCA(2)\n",
        "pca.fit(scaled_data)\n",
        "print(f\"Eigenvalues: {pca.explained_variance_}\") \n",
        "print(f\"Eigenvectors: {pca.components_}\") "
      ]
    },
    {
      "cell_type": "markdown",
      "metadata": {},
      "source": [
        "* The direction of the principal components is not unique; it can be multiplied by -1 and still represent the same subspace."
      ]
    },
    {
      "cell_type": "code",
      "execution_count": 35,
      "metadata": {
        "colab": {
          "base_uri": "https://localhost:8080/"
        },
        "id": "2LORXRQuSbWy",
        "outputId": "b5c2fcfd-c6b2-4997-8880-4687b2b6eb81"
      },
      "outputs": [],
      "source": [
        "# Step 5: Projection\n",
        "pca_data = pca.transform(scaled_data)"
      ]
    },
    {
      "cell_type": "markdown",
      "metadata": {
        "id": "Y2A7ihoIuyH4"
      },
      "source": [
        "## Discussion"
      ]
    },
    {
      "cell_type": "markdown",
      "metadata": {},
      "source": [
        "* PCA offers the advantage of being non-parametric, eliminating the need for parameter tuning. The resulting dataset is distinctive and user-independent. \n",
        "* However, the drawback is that users must comprehend the dataset prior to implementation, as PCA relies on several assumptions. For instance, in health care research, it is more common to combine height and weight into BMI rather than their linear combination.\n",
        "* Moreover, interpreting the transformed data in relation to the original features and their contributions to each principal component necessitates domain knowledge"
      ]
    }
  ],
  "metadata": {
    "colab": {
      "provenance": []
    },
    "kernelspec": {
      "display_name": "venv",
      "language": "python",
      "name": "python3"
    },
    "language_info": {
      "codemirror_mode": {
        "name": "ipython",
        "version": 3
      },
      "file_extension": ".py",
      "mimetype": "text/x-python",
      "name": "python",
      "nbconvert_exporter": "python",
      "pygments_lexer": "ipython3",
      "version": "3.9.6"
    }
  },
  "nbformat": 4,
  "nbformat_minor": 0
}
